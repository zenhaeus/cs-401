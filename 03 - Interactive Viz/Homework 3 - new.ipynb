{
 "cells": [
  {
   "cell_type": "markdown",
   "metadata": {},
   "source": [
    "# Homework 3 - Interactive visualisation"
   ]
  },
  {
   "cell_type": "markdown",
   "metadata": {},
   "source": [
    "### Libraries"
   ]
  },
  {
   "cell_type": "code",
   "execution_count": 31,
   "metadata": {
    "collapsed": true
   },
   "outputs": [],
   "source": [
    "import folium\n",
    "import json\n",
    "import os\n",
    "import matplotlib.pyplot as plt\n",
    "import numpy as np\n",
    "import pandas as pd\n",
    "import seaborn as sns"
   ]
  },
  {
   "cell_type": "markdown",
   "metadata": {},
   "source": [
    "### Configuration"
   ]
  },
  {
   "cell_type": "code",
   "execution_count": 66,
   "metadata": {
    "collapsed": true
   },
   "outputs": [],
   "source": [
    "from IPython.display import IFrame\n",
    "from IPython.core.interactiveshell import InteractiveShell\n",
    "\n",
    "InteractiveShell.ast_node_interactivity = \"all\"\n",
    "pd.options.mode.chained_assignment = None"
   ]
  },
  {
   "cell_type": "markdown",
   "metadata": {},
   "source": [
    "### Assignment 1\n",
    "\n",
    "Go to the [eurostat](http://ec.europa.eu/eurostat/data/database) website and try to find a dataset that includes the european unemployment rates at a recent date.\n",
    "\n",
    "Use this data to build a [Choropleth map](https://en.wikipedia.org/wiki/Choropleth_map) which shows the unemployment rate in Europe at a country level. Think about [the colors you use](https://carto.com/academy/courses/intermediate-design/choose-colors-1/), how you decided to [split the intervals into data classes](http://gisgeography.com/choropleth-maps-data-classification/) or which interactions you could add in order to make the visualization intuitive and expressive. Compare Switzerland's unemployment rate to that of the rest of Europe."
   ]
  },
  {
   "cell_type": "markdown",
   "metadata": {},
   "source": [
    "#### Eurostat data loading"
   ]
  },
  {
   "cell_type": "markdown",
   "metadata": {},
   "source": [
    "-- Add file orign here"
   ]
  },
  {
   "cell_type": "code",
   "execution_count": 17,
   "metadata": {
    "scrolled": true
   },
   "outputs": [
    {
     "data": {
      "text/html": [
       "<div>\n",
       "<style>\n",
       "    .dataframe thead tr:only-child th {\n",
       "        text-align: right;\n",
       "    }\n",
       "\n",
       "    .dataframe thead th {\n",
       "        text-align: left;\n",
       "    }\n",
       "\n",
       "    .dataframe tbody tr th {\n",
       "        vertical-align: top;\n",
       "    }\n",
       "</style>\n",
       "<table border=\"1\" class=\"dataframe\">\n",
       "  <thead>\n",
       "    <tr style=\"text-align: right;\">\n",
       "      <th></th>\n",
       "      <th>country</th>\n",
       "      <th>unemployment_rate</th>\n",
       "    </tr>\n",
       "  </thead>\n",
       "  <tbody>\n",
       "    <tr>\n",
       "      <th>33</th>\n",
       "      <td>Norway</td>\n",
       "      <td>4.7</td>\n",
       "    </tr>\n",
       "    <tr>\n",
       "      <th>34</th>\n",
       "      <td>Switzerland</td>\n",
       "      <td>:</td>\n",
       "    </tr>\n",
       "    <tr>\n",
       "      <th>35</th>\n",
       "      <td>Turkey</td>\n",
       "      <td>10.9</td>\n",
       "    </tr>\n",
       "  </tbody>\n",
       "</table>\n",
       "</div>"
      ],
      "text/plain": [
       "        country unemployment_rate\n",
       "33       Norway               4.7\n",
       "34  Switzerland                 :\n",
       "35       Turkey              10.9"
      ]
     },
     "execution_count": 17,
     "metadata": {},
     "output_type": "execute_result"
    }
   ],
   "source": [
    "eurostat_path = os.path.join('data', 'Eurostat_Table_tsdec450NoFlagNoDesc_6a841288-0e2b-48b1-9915-fb161d1ea363.xls')\n",
    "eurostat = pd.read_excel(eurostat_path, skiprows=[0,1,2])\n",
    "eurostat = pd.DataFrame({'country': eurostat['geo'], 'unemployment_rate': eurostat['2016']})\n",
    "eurostat[33:36]"
   ]
  },
  {
   "cell_type": "markdown",
   "metadata": {},
   "source": [
    "While inspecting loaded data, we noticed that the unemployment information for Switzerland is not present in this data set. For this reason we will omit Switzerland's unemployment rate in this visualization, and will revisit it in more detail in the second assignment. Furthermore, at the end of the second assignment, we will provide a comparison of Switzerland's unemployment rate to that of the rest of Europe."
   ]
  },
  {
   "cell_type": "code",
   "execution_count": 18,
   "metadata": {
    "collapsed": true
   },
   "outputs": [],
   "source": [
    "eurostat = eurostat.drop(34)"
   ]
  },
  {
   "cell_type": "markdown",
   "metadata": {},
   "source": [
    "We are converting unemployment rate to float values, for the future use in the visualization."
   ]
  },
  {
   "cell_type": "code",
   "execution_count": 19,
   "metadata": {},
   "outputs": [
    {
     "data": {
      "text/html": [
       "<div>\n",
       "<style>\n",
       "    .dataframe thead tr:only-child th {\n",
       "        text-align: right;\n",
       "    }\n",
       "\n",
       "    .dataframe thead th {\n",
       "        text-align: left;\n",
       "    }\n",
       "\n",
       "    .dataframe tbody tr th {\n",
       "        vertical-align: top;\n",
       "    }\n",
       "</style>\n",
       "<table border=\"1\" class=\"dataframe\">\n",
       "  <thead>\n",
       "    <tr style=\"text-align: right;\">\n",
       "      <th></th>\n",
       "      <th>country</th>\n",
       "      <th>unemployment_rate</th>\n",
       "    </tr>\n",
       "  </thead>\n",
       "  <tbody>\n",
       "    <tr>\n",
       "      <th>0</th>\n",
       "      <td>EU (28 countries)</td>\n",
       "      <td>8.6</td>\n",
       "    </tr>\n",
       "    <tr>\n",
       "      <th>1</th>\n",
       "      <td>EU (27 countries)</td>\n",
       "      <td>8.5</td>\n",
       "    </tr>\n",
       "  </tbody>\n",
       "</table>\n",
       "</div>"
      ],
      "text/plain": [
       "             country  unemployment_rate\n",
       "0  EU (28 countries)                8.6\n",
       "1  EU (27 countries)                8.5"
      ]
     },
     "execution_count": 19,
     "metadata": {},
     "output_type": "execute_result"
    }
   ],
   "source": [
    "eurostat.unemployment_rate = eurostat.unemployment_rate.astype('float')\n",
    "eurostat.head(2)"
   ]
  },
  {
   "cell_type": "markdown",
   "metadata": {},
   "source": [
    "We will utilise `describe` function to give us a sense of the scale of the unemployment values present."
   ]
  },
  {
   "cell_type": "code",
   "execution_count": 20,
   "metadata": {},
   "outputs": [
    {
     "data": {
      "text/html": [
       "<div>\n",
       "<style>\n",
       "    .dataframe thead tr:only-child th {\n",
       "        text-align: right;\n",
       "    }\n",
       "\n",
       "    .dataframe thead th {\n",
       "        text-align: left;\n",
       "    }\n",
       "\n",
       "    .dataframe tbody tr th {\n",
       "        vertical-align: top;\n",
       "    }\n",
       "</style>\n",
       "<table border=\"1\" class=\"dataframe\">\n",
       "  <thead>\n",
       "    <tr style=\"text-align: right;\">\n",
       "      <th></th>\n",
       "      <th>unemployment_rate</th>\n",
       "    </tr>\n",
       "  </thead>\n",
       "  <tbody>\n",
       "    <tr>\n",
       "      <th>count</th>\n",
       "      <td>37.000000</td>\n",
       "    </tr>\n",
       "    <tr>\n",
       "      <th>mean</th>\n",
       "      <td>8.286486</td>\n",
       "    </tr>\n",
       "    <tr>\n",
       "      <th>std</th>\n",
       "      <td>4.201201</td>\n",
       "    </tr>\n",
       "    <tr>\n",
       "      <th>min</th>\n",
       "      <td>3.000000</td>\n",
       "    </tr>\n",
       "    <tr>\n",
       "      <th>25%</th>\n",
       "      <td>5.900000</td>\n",
       "    </tr>\n",
       "    <tr>\n",
       "      <th>50%</th>\n",
       "      <td>7.800000</td>\n",
       "    </tr>\n",
       "    <tr>\n",
       "      <th>75%</th>\n",
       "      <td>10.000000</td>\n",
       "    </tr>\n",
       "    <tr>\n",
       "      <th>max</th>\n",
       "      <td>23.600000</td>\n",
       "    </tr>\n",
       "  </tbody>\n",
       "</table>\n",
       "</div>"
      ],
      "text/plain": [
       "       unemployment_rate\n",
       "count          37.000000\n",
       "mean            8.286486\n",
       "std             4.201201\n",
       "min             3.000000\n",
       "25%             5.900000\n",
       "50%             7.800000\n",
       "75%            10.000000\n",
       "max            23.600000"
      ]
     },
     "execution_count": 20,
     "metadata": {},
     "output_type": "execute_result"
    }
   ],
   "source": [
    "eurostat.describe()"
   ]
  },
  {
   "cell_type": "markdown",
   "metadata": {},
   "source": [
    "We can observe that the data is right-skewed, with big maximum value. Due to this, we will utilize observed quantiles for the different color intervals when rendering maps.\n",
    "\n",
    "Countries that have the lowest and the highest unemployment rate respectively, among the European states covered by the **eurostat** data set:"
   ]
  },
  {
   "cell_type": "code",
   "execution_count": 49,
   "metadata": {},
   "outputs": [
    {
     "data": {
      "text/html": [
       "<div>\n",
       "<style>\n",
       "    .dataframe thead tr:only-child th {\n",
       "        text-align: right;\n",
       "    }\n",
       "\n",
       "    .dataframe thead th {\n",
       "        text-align: left;\n",
       "    }\n",
       "\n",
       "    .dataframe tbody tr th {\n",
       "        vertical-align: top;\n",
       "    }\n",
       "</style>\n",
       "<table border=\"1\" class=\"dataframe\">\n",
       "  <thead>\n",
       "    <tr style=\"text-align: right;\">\n",
       "      <th></th>\n",
       "      <th>country</th>\n",
       "      <th>unemployment_rate</th>\n",
       "    </tr>\n",
       "  </thead>\n",
       "  <tbody>\n",
       "    <tr>\n",
       "      <th>32</th>\n",
       "      <td>Iceland</td>\n",
       "      <td>3.0</td>\n",
       "    </tr>\n",
       "  </tbody>\n",
       "</table>\n",
       "</div>"
      ],
      "text/plain": [
       "    country  unemployment_rate\n",
       "32  Iceland                3.0"
      ]
     },
     "execution_count": 49,
     "metadata": {},
     "output_type": "execute_result"
    },
    {
     "data": {
      "text/html": [
       "<div>\n",
       "<style>\n",
       "    .dataframe thead tr:only-child th {\n",
       "        text-align: right;\n",
       "    }\n",
       "\n",
       "    .dataframe thead th {\n",
       "        text-align: left;\n",
       "    }\n",
       "\n",
       "    .dataframe tbody tr th {\n",
       "        vertical-align: top;\n",
       "    }\n",
       "</style>\n",
       "<table border=\"1\" class=\"dataframe\">\n",
       "  <thead>\n",
       "    <tr style=\"text-align: right;\">\n",
       "      <th></th>\n",
       "      <th>country</th>\n",
       "      <th>unemployment_rate</th>\n",
       "    </tr>\n",
       "  </thead>\n",
       "  <tbody>\n",
       "    <tr>\n",
       "      <th>11</th>\n",
       "      <td>Greece</td>\n",
       "      <td>23.6</td>\n",
       "    </tr>\n",
       "  </tbody>\n",
       "</table>\n",
       "</div>"
      ],
      "text/plain": [
       "   country  unemployment_rate\n",
       "11  Greece               23.6"
      ]
     },
     "execution_count": 49,
     "metadata": {},
     "output_type": "execute_result"
    }
   ],
   "source": [
    "eurostat.loc[eurostat['unemployment_rate'] == min(eurostat['unemployment_rate'])]\n",
    "eurostat.loc[eurostat['unemployment_rate'] == max(eurostat['unemployment_rate'])]"
   ]
  },
  {
   "cell_type": "markdown",
   "metadata": {},
   "source": [
    "#### Loading of the overlays for the European states\n",
    "\n",
    "`europe.topojson.json` file contains information necessary for proper visualization of country overlays. We are using state overaly information (geo-coordinates) provided as part of this homework."
   ]
  },
  {
   "cell_type": "code",
   "execution_count": 35,
   "metadata": {
    "collapsed": true
   },
   "outputs": [],
   "source": [
    "europe_geo_path = os.path.join('topojson', 'europe.topojson.json')\n",
    "europe_geo_data = json.load(open(europe_state_file))"
   ]
  },
  {
   "cell_type": "markdown",
   "metadata": {},
   "source": [
    "#### Map of Europe"
   ]
  },
  {
   "cell_type": "code",
   "execution_count": 76,
   "metadata": {},
   "outputs": [
    {
     "data": {
      "text/html": [
       "\n",
       "        <iframe\n",
       "            width=\"1000\"\n",
       "            height=\"600\"\n",
       "            src=\"maps/Assignment_1_Europe.html\"\n",
       "            frameborder=\"0\"\n",
       "            allowfullscreen\n",
       "        ></iframe>\n",
       "        "
      ],
      "text/plain": [
       "<IPython.lib.display.IFrame at 0x1a10abdba8>"
      ]
     },
     "execution_count": 76,
     "metadata": {},
     "output_type": "execute_result"
    }
   ],
   "source": [
    "europe_center = [53.5775, 23.1061]\n",
    "\n",
    "m_a1_europe = folium.Map(europe_center, zoom_start = 3)\n",
    "\n",
    "m_a1_europe.choropleth(europe_geo_data,\n",
    "                       name = 'Europe unemployment rate',\n",
    "                       data = eurostat,\n",
    "                       columns = ['country', 'unemployment_rate'],\n",
    "                       threshold_scale = [3,5.9,7.8,10,15,23.6],\n",
    "                       key_on = 'feature.properties.NAME',\n",
    "                       fill_color = 'BuPu',\n",
    "                       fill_opacity = 0.7,\n",
    "                       line_opacity=0.2,\n",
    "                       legend_name = 'Unemployement rate (%)',\n",
    "                       topojson='objects.europe')\n",
    "\n",
    "m_a1_europe_path = os.path.join('maps', 'Assignment_1_Europe.html')\n",
    "m_a1_europe.save(m_a1_europe_path)\n",
    "\n",
    "IFrame(m_a1_europe_path, width=1000, height=600)"
   ]
  },
  {
   "cell_type": "markdown",
   "metadata": {},
   "source": [
    "#### Discussion\n",
    "\n",
    "Since we are working with the **eurostat** data that provides us with the information about unemployment rates of countries in the European union, European economic area and candidate countries, in the above map countries which are colored in the light blue color do not have unemployment rate values associated with them.\n",
    "\n",
    "From the map we can observe that Greece experiences the highest unemployment rate of the countries covered by the **eurostat** data. Furthermore, European union's southern states across the board experience higher unemployment rates than those of the Europe's center or the Baltic states. On the other hand, Iceland has the lowest unemployment rate, according to the available data."
   ]
  },
  {
   "cell_type": "markdown",
   "metadata": {},
   "source": [
    "### Assignment 2\n",
    "\n",
    "Go to the [amstat](https://www.amstat.ch) website to find a dataset that includes the unemployment rates in Switzerland at a recent date.\n",
    "\n",
    "> *HINT* Go to the `details` tab to find the raw data you need. If you do not speak French, German or Italian, think of using free translation services to navigate your way through. \n",
    "\n",
    "Use this data to build another Choropleth map, this time showing the unemployment rate at the level of swiss cantons. Again, try to make the map as expressive as possible, and comment on the trends you observe.\n",
    "\n",
    "The Swiss Confederation defines the rates you have just plotted as the number of people looking for a job divided by the size of the active population (scaled by 100). This is surely a valid choice, but as we discussed one could argue for a different categorization.\n",
    "\n",
    "Copy the map you have just created, but this time don't count in your statistics people who already have a job and are looking for a new one. How do your observations change ? You can repeat this with different choices of categories to see how selecting different metrics can lead to different interpretations of the same data.\n"
   ]
  },
  {
   "cell_type": "markdown",
   "metadata": {},
   "source": [
    "#### Amstat data loading\n",
    "\n",
    "-- Add file orign here\n",
    "\n",
    "We have downloaded unemployment data from the *amstat* website in the Italian language. Consequentially, we have manually translated canton names and identifiers to English for the future manipulation and display."
   ]
  },
  {
   "cell_type": "code",
   "execution_count": 41,
   "metadata": {
    "collapsed": true
   },
   "outputs": [],
   "source": [
    "amstat_path = os.path.join('data', 'Tasso di disoccupazione.xlsx')\n",
    "amstat_data = pd.read_excel(amstat_path)\n",
    "amstat_data['ID'] = ['ZH','BE','LU','UR','SZ','OW','NW','GL','ZG','SO','BS','BL','SH','AR',\n",
    "              'AI','SG','GR','AG','TG','FR','TI','VD','VS','NE','GE','JU','TO']"
   ]
  },
  {
   "cell_type": "markdown",
   "metadata": {},
   "source": [
    "#### Loading of the overlays for the Swiss cantons\n",
    "\n",
    "`ch-cantons.topojson.json` file contains information necessary for proper visualization of Swiss cantons' overlays. We are using canton overlay information (geo-coordinates) provided as part of this homework."
   ]
  },
  {
   "cell_type": "code",
   "execution_count": 42,
   "metadata": {
    "collapsed": true
   },
   "outputs": [],
   "source": [
    "canton_geo_path = os.path.join('topojson', 'ch-cantons.topojson.json')\n",
    "canton_geo_data = json.load(open(canton_geo_path))"
   ]
  },
  {
   "cell_type": "markdown",
   "metadata": {},
   "source": [
    "#### Unemployment visualisation\n",
    "\n",
    "We will visualize information provided by the amstat data set in three different ways:\n",
    "\n",
    "* registered unemployed people who are looking for a job\n",
    "* people who are employed but are actively looking for a job\n",
    "* registered unemployed people who are looking for a job with the addition of people who are employed but are actively looking for a job\n",
    "\n",
    "Column `Unemployment_rate` holds information that will be used in third overlay, while we need to calculate remaining information necessary for the first two overlays. Finally, by again utilizing the `describe` method we will observe quantile information that we will use for threshold scale in the overlays."
   ]
  },
  {
   "cell_type": "code",
   "execution_count": 43,
   "metadata": {},
   "outputs": [
    {
     "data": {
      "text/html": [
       "<div>\n",
       "<style>\n",
       "    .dataframe thead tr:only-child th {\n",
       "        text-align: right;\n",
       "    }\n",
       "\n",
       "    .dataframe thead th {\n",
       "        text-align: left;\n",
       "    }\n",
       "\n",
       "    .dataframe tbody tr th {\n",
       "        vertical-align: top;\n",
       "    }\n",
       "</style>\n",
       "<table border=\"1\" class=\"dataframe\">\n",
       "  <thead>\n",
       "    <tr style=\"text-align: right;\">\n",
       "      <th></th>\n",
       "      <th>Registered_rate</th>\n",
       "      <th>Searching_rate</th>\n",
       "      <th>Unemployment_rate</th>\n",
       "    </tr>\n",
       "  </thead>\n",
       "  <tbody>\n",
       "    <tr>\n",
       "      <th>count</th>\n",
       "      <td>27.000000</td>\n",
       "      <td>27.000000</td>\n",
       "      <td>27.000000</td>\n",
       "    </tr>\n",
       "    <tr>\n",
       "      <th>mean</th>\n",
       "      <td>1.668556</td>\n",
       "      <td>0.872185</td>\n",
       "      <td>2.540741</td>\n",
       "    </tr>\n",
       "    <tr>\n",
       "      <th>std</th>\n",
       "      <td>0.999903</td>\n",
       "      <td>0.327977</td>\n",
       "      <td>1.253383</td>\n",
       "    </tr>\n",
       "    <tr>\n",
       "      <th>min</th>\n",
       "      <td>0.261479</td>\n",
       "      <td>0.274510</td>\n",
       "      <td>0.600000</td>\n",
       "    </tr>\n",
       "    <tr>\n",
       "      <th>25%</th>\n",
       "      <td>1.038442</td>\n",
       "      <td>0.643355</td>\n",
       "      <td>1.700000</td>\n",
       "    </tr>\n",
       "    <tr>\n",
       "      <th>50%</th>\n",
       "      <td>1.538624</td>\n",
       "      <td>0.899276</td>\n",
       "      <td>2.600000</td>\n",
       "    </tr>\n",
       "    <tr>\n",
       "      <th>75%</th>\n",
       "      <td>2.063209</td>\n",
       "      <td>1.140095</td>\n",
       "      <td>3.050000</td>\n",
       "    </tr>\n",
       "    <tr>\n",
       "      <th>max</th>\n",
       "      <td>4.105104</td>\n",
       "      <td>1.400589</td>\n",
       "      <td>5.200000</td>\n",
       "    </tr>\n",
       "  </tbody>\n",
       "</table>\n",
       "</div>"
      ],
      "text/plain": [
       "       Registered_rate  Searching_rate  Unemployment_rate\n",
       "count        27.000000       27.000000          27.000000\n",
       "mean          1.668556        0.872185           2.540741\n",
       "std           0.999903        0.327977           1.253383\n",
       "min           0.261479        0.274510           0.600000\n",
       "25%           1.038442        0.643355           1.700000\n",
       "50%           1.538624        0.899276           2.600000\n",
       "75%           2.063209        1.140095           3.050000\n",
       "max           4.105104        1.400589           5.200000"
      ]
     },
     "execution_count": 43,
     "metadata": {},
     "output_type": "execute_result"
    }
   ],
   "source": [
    "amstat_data['Registered_rate'] = amstat_data['Unemployment_rate'] * \\\n",
    "    (amstat_data['Unemployed_registered'] / \\\n",
    "     (amstat_data['Employed_looking_for_job'] + amstat_data['Unemployed_registered'])\n",
    "    )\n",
    "amstat_data['Searching_rate'] = amstat_data['Unemployment_rate'] * \\\n",
    "    (amstat_data['Employed_looking_for_job'] / \\\n",
    "     (amstat_data['Employed_looking_for_job'] + amstat_data['Unemployed_registered'])\n",
    "    )\n",
    "\n",
    "amstat_data = amstat_data[['ID', 'Canton', 'Registered_rate', 'Searching_rate', 'Unemployment_rate']]\n",
    "amstat_data[['Registered_rate', 'Searching_rate', 'Unemployment_rate']].describe()"
   ]
  },
  {
   "cell_type": "markdown",
   "metadata": {},
   "source": [
    "Cantons with the lowest and highest unemployemnt rate respectively, calculated only by taking into account registered unemployed people:"
   ]
  },
  {
   "cell_type": "code",
   "execution_count": 44,
   "metadata": {},
   "outputs": [
    {
     "data": {
      "text/html": [
       "<div>\n",
       "<style>\n",
       "    .dataframe thead tr:only-child th {\n",
       "        text-align: right;\n",
       "    }\n",
       "\n",
       "    .dataframe thead th {\n",
       "        text-align: left;\n",
       "    }\n",
       "\n",
       "    .dataframe tbody tr th {\n",
       "        vertical-align: top;\n",
       "    }\n",
       "</style>\n",
       "<table border=\"1\" class=\"dataframe\">\n",
       "  <thead>\n",
       "    <tr style=\"text-align: right;\">\n",
       "      <th></th>\n",
       "      <th>ID</th>\n",
       "      <th>Canton</th>\n",
       "      <th>Registered_rate</th>\n",
       "      <th>Searching_rate</th>\n",
       "      <th>Unemployment_rate</th>\n",
       "    </tr>\n",
       "  </thead>\n",
       "  <tbody>\n",
       "    <tr>\n",
       "      <th>3</th>\n",
       "      <td>UR</td>\n",
       "      <td>Uri</td>\n",
       "      <td>0.261479</td>\n",
       "      <td>0.338521</td>\n",
       "      <td>0.6</td>\n",
       "    </tr>\n",
       "  </tbody>\n",
       "</table>\n",
       "</div>"
      ],
      "text/plain": [
       "   ID Canton  Registered_rate  Searching_rate  Unemployment_rate\n",
       "3  UR    Uri         0.261479        0.338521                0.6"
      ]
     },
     "execution_count": 44,
     "metadata": {},
     "output_type": "execute_result"
    },
    {
     "data": {
      "text/html": [
       "<div>\n",
       "<style>\n",
       "    .dataframe thead tr:only-child th {\n",
       "        text-align: right;\n",
       "    }\n",
       "\n",
       "    .dataframe thead th {\n",
       "        text-align: left;\n",
       "    }\n",
       "\n",
       "    .dataframe tbody tr th {\n",
       "        vertical-align: top;\n",
       "    }\n",
       "</style>\n",
       "<table border=\"1\" class=\"dataframe\">\n",
       "  <thead>\n",
       "    <tr style=\"text-align: right;\">\n",
       "      <th></th>\n",
       "      <th>ID</th>\n",
       "      <th>Canton</th>\n",
       "      <th>Registered_rate</th>\n",
       "      <th>Searching_rate</th>\n",
       "      <th>Unemployment_rate</th>\n",
       "    </tr>\n",
       "  </thead>\n",
       "  <tbody>\n",
       "    <tr>\n",
       "      <th>24</th>\n",
       "      <td>GE</td>\n",
       "      <td>Ginevra</td>\n",
       "      <td>4.105104</td>\n",
       "      <td>1.094896</td>\n",
       "      <td>5.2</td>\n",
       "    </tr>\n",
       "  </tbody>\n",
       "</table>\n",
       "</div>"
      ],
      "text/plain": [
       "    ID   Canton  Registered_rate  Searching_rate  Unemployment_rate\n",
       "24  GE  Ginevra         4.105104        1.094896                5.2"
      ]
     },
     "execution_count": 44,
     "metadata": {},
     "output_type": "execute_result"
    }
   ],
   "source": [
    "amstat_data[amstat_data['Registered_rate'] == min(amstat_data['Registered_rate'])]\n",
    "amstat_data[amstat_data['Registered_rate'] == max(amstat_data['Registered_rate'])]"
   ]
  },
  {
   "cell_type": "markdown",
   "metadata": {},
   "source": [
    "Cantons with the lowest and highest rate of employed people who are actively searching for a new job:"
   ]
  },
  {
   "cell_type": "code",
   "execution_count": 45,
   "metadata": {},
   "outputs": [
    {
     "data": {
      "text/html": [
       "<div>\n",
       "<style>\n",
       "    .dataframe thead tr:only-child th {\n",
       "        text-align: right;\n",
       "    }\n",
       "\n",
       "    .dataframe thead th {\n",
       "        text-align: left;\n",
       "    }\n",
       "\n",
       "    .dataframe tbody tr th {\n",
       "        vertical-align: top;\n",
       "    }\n",
       "</style>\n",
       "<table border=\"1\" class=\"dataframe\">\n",
       "  <thead>\n",
       "    <tr style=\"text-align: right;\">\n",
       "      <th></th>\n",
       "      <th>ID</th>\n",
       "      <th>Canton</th>\n",
       "      <th>Registered_rate</th>\n",
       "      <th>Searching_rate</th>\n",
       "      <th>Unemployment_rate</th>\n",
       "    </tr>\n",
       "  </thead>\n",
       "  <tbody>\n",
       "    <tr>\n",
       "      <th>14</th>\n",
       "      <td>AI</td>\n",
       "      <td>Appenzello Interno</td>\n",
       "      <td>0.42549</td>\n",
       "      <td>0.27451</td>\n",
       "      <td>0.7</td>\n",
       "    </tr>\n",
       "  </tbody>\n",
       "</table>\n",
       "</div>"
      ],
      "text/plain": [
       "    ID              Canton  Registered_rate  Searching_rate  Unemployment_rate\n",
       "14  AI  Appenzello Interno          0.42549         0.27451                0.7"
      ]
     },
     "execution_count": 45,
     "metadata": {},
     "output_type": "execute_result"
    },
    {
     "data": {
      "text/html": [
       "<div>\n",
       "<style>\n",
       "    .dataframe thead tr:only-child th {\n",
       "        text-align: right;\n",
       "    }\n",
       "\n",
       "    .dataframe thead th {\n",
       "        text-align: left;\n",
       "    }\n",
       "\n",
       "    .dataframe tbody tr th {\n",
       "        vertical-align: top;\n",
       "    }\n",
       "</style>\n",
       "<table border=\"1\" class=\"dataframe\">\n",
       "  <thead>\n",
       "    <tr style=\"text-align: right;\">\n",
       "      <th></th>\n",
       "      <th>ID</th>\n",
       "      <th>Canton</th>\n",
       "      <th>Registered_rate</th>\n",
       "      <th>Searching_rate</th>\n",
       "      <th>Unemployment_rate</th>\n",
       "    </tr>\n",
       "  </thead>\n",
       "  <tbody>\n",
       "    <tr>\n",
       "      <th>25</th>\n",
       "      <td>JU</td>\n",
       "      <td>Giura</td>\n",
       "      <td>2.999411</td>\n",
       "      <td>1.400589</td>\n",
       "      <td>4.4</td>\n",
       "    </tr>\n",
       "  </tbody>\n",
       "</table>\n",
       "</div>"
      ],
      "text/plain": [
       "    ID Canton  Registered_rate  Searching_rate  Unemployment_rate\n",
       "25  JU  Giura         2.999411        1.400589                4.4"
      ]
     },
     "execution_count": 45,
     "metadata": {},
     "output_type": "execute_result"
    }
   ],
   "source": [
    "amstat_data[amstat_data['Searching_rate'] == min(amstat_data['Searching_rate'])]\n",
    "amstat_data[amstat_data['Searching_rate'] == max(amstat_data['Searching_rate'])]"
   ]
  },
  {
   "cell_type": "markdown",
   "metadata": {},
   "source": [
    "Cantons with the lowest and highest unemployment rate respectively, as calculated by Swiss authorities:"
   ]
  },
  {
   "cell_type": "code",
   "execution_count": 46,
   "metadata": {},
   "outputs": [
    {
     "data": {
      "text/html": [
       "<div>\n",
       "<style>\n",
       "    .dataframe thead tr:only-child th {\n",
       "        text-align: right;\n",
       "    }\n",
       "\n",
       "    .dataframe thead th {\n",
       "        text-align: left;\n",
       "    }\n",
       "\n",
       "    .dataframe tbody tr th {\n",
       "        vertical-align: top;\n",
       "    }\n",
       "</style>\n",
       "<table border=\"1\" class=\"dataframe\">\n",
       "  <thead>\n",
       "    <tr style=\"text-align: right;\">\n",
       "      <th></th>\n",
       "      <th>ID</th>\n",
       "      <th>Canton</th>\n",
       "      <th>Registered_rate</th>\n",
       "      <th>Searching_rate</th>\n",
       "      <th>Unemployment_rate</th>\n",
       "    </tr>\n",
       "  </thead>\n",
       "  <tbody>\n",
       "    <tr>\n",
       "      <th>3</th>\n",
       "      <td>UR</td>\n",
       "      <td>Uri</td>\n",
       "      <td>0.261479</td>\n",
       "      <td>0.338521</td>\n",
       "      <td>0.6</td>\n",
       "    </tr>\n",
       "  </tbody>\n",
       "</table>\n",
       "</div>"
      ],
      "text/plain": [
       "   ID Canton  Registered_rate  Searching_rate  Unemployment_rate\n",
       "3  UR    Uri         0.261479        0.338521                0.6"
      ]
     },
     "execution_count": 46,
     "metadata": {},
     "output_type": "execute_result"
    },
    {
     "data": {
      "text/html": [
       "<div>\n",
       "<style>\n",
       "    .dataframe thead tr:only-child th {\n",
       "        text-align: right;\n",
       "    }\n",
       "\n",
       "    .dataframe thead th {\n",
       "        text-align: left;\n",
       "    }\n",
       "\n",
       "    .dataframe tbody tr th {\n",
       "        vertical-align: top;\n",
       "    }\n",
       "</style>\n",
       "<table border=\"1\" class=\"dataframe\">\n",
       "  <thead>\n",
       "    <tr style=\"text-align: right;\">\n",
       "      <th></th>\n",
       "      <th>ID</th>\n",
       "      <th>Canton</th>\n",
       "      <th>Registered_rate</th>\n",
       "      <th>Searching_rate</th>\n",
       "      <th>Unemployment_rate</th>\n",
       "    </tr>\n",
       "  </thead>\n",
       "  <tbody>\n",
       "    <tr>\n",
       "      <th>24</th>\n",
       "      <td>GE</td>\n",
       "      <td>Ginevra</td>\n",
       "      <td>4.105104</td>\n",
       "      <td>1.094896</td>\n",
       "      <td>5.2</td>\n",
       "    </tr>\n",
       "  </tbody>\n",
       "</table>\n",
       "</div>"
      ],
      "text/plain": [
       "    ID   Canton  Registered_rate  Searching_rate  Unemployment_rate\n",
       "24  GE  Ginevra         4.105104        1.094896                5.2"
      ]
     },
     "execution_count": 46,
     "metadata": {},
     "output_type": "execute_result"
    }
   ],
   "source": [
    "amstat_data[amstat_data['Unemployment_rate'] == min(amstat_data['Unemployment_rate'])]\n",
    "amstat_data[amstat_data['Unemployment_rate'] == max(amstat_data['Unemployment_rate'])]"
   ]
  },
  {
   "cell_type": "markdown",
   "metadata": {},
   "source": [
    "The first overlay provides information about unemployment rates among the cantons, calculated with the standard approach of dividing the number of people who are unemployed by the number of people in the active population.\n",
    "\n",
    "The second overlay provides information about people who are employed, but are actively looking for a new job.\n",
    "\n",
    "The third overlay provides information about unemployment rates in a way that the Swiss Confederation calculates it, by dividing the number of people who are unemployed with the addition of people who are employed but are actively looking for a job, by the number of people in the active population."
   ]
  },
  {
   "cell_type": "code",
   "execution_count": 77,
   "metadata": {},
   "outputs": [
    {
     "data": {
      "text/plain": [
       "<folium.map.LayerControl at 0x1a10ada6d8>"
      ]
     },
     "execution_count": 77,
     "metadata": {},
     "output_type": "execute_result"
    },
    {
     "data": {
      "text/html": [
       "\n",
       "        <iframe\n",
       "            width=\"1000\"\n",
       "            height=\"600\"\n",
       "            src=\"maps/Assignment_2_Switzerland.html\"\n",
       "            frameborder=\"0\"\n",
       "            allowfullscreen\n",
       "        ></iframe>\n",
       "        "
      ],
      "text/plain": [
       "<IPython.lib.display.IFrame at 0x1a10acd668>"
      ]
     },
     "execution_count": 77,
     "metadata": {},
     "output_type": "execute_result"
    }
   ],
   "source": [
    "switzerland_center = [46.801111, 8.226667]\n",
    "\n",
    "m_a2_switzerland = folium.Map(switzerland_center, zoom_start = 8)\n",
    "\n",
    "m_a2_switzerland.choropleth(canton_geo_data,\n",
    "                            name = 'Registered unemployed people',\n",
    "                            data = amstat_data,\n",
    "                            columns = ['ID','Registered_rate'],\n",
    "                            key_on = 'feature.id',\n",
    "                            threshold_scale = [0.26,1.038,1.53,2.06,4.1],\n",
    "                            fill_color = 'YlGn',\n",
    "                            fill_opacity = 0.7,\n",
    "                            line_opacity = 0.2,\n",
    "                            legend_name = 'Unemployement rate (%)',\n",
    "                            topojson = 'objects.cantons')\n",
    "\n",
    "m_a2_switzerland.choropleth(canton_geo_data,\n",
    "                            name = 'Employed people who are searching for a new job',\n",
    "                            data = amstat_data,\n",
    "                            columns = ['ID','Searching_rate'],\n",
    "                            key_on = 'feature.id',\n",
    "                            threshold_scale = [0.27,0.64,0.9,1.14,1.4],\n",
    "                            fill_color = 'BuGn',\n",
    "                            fill_opacity = 0.7,\n",
    "                            line_opacity = 0.2,\n",
    "                            legend_name = 'Searching for a new job (%)',\n",
    "                            topojson = 'objects.cantons')\n",
    "\n",
    "m_a2_switzerland.choropleth(canton_geo_data,\n",
    "                            name = 'Unemployment rate as defined by Swiss government',\n",
    "                            data = amstat_data,\n",
    "                            columns = ['ID', 'Unemployment_rate'],\n",
    "                            key_on = 'feature.id',\n",
    "                            threshold_scale = [0.6,1.7,2.6,3.05,5.2],\n",
    "                            fill_color = 'PuRd',\n",
    "                            fill_opacity = 0.7,\n",
    "                            line_opacity = 0.2,\n",
    "                            legend_name = 'Unemployement rate (%)',\n",
    "                            topojson = 'objects.cantons')\n",
    "\n",
    "folium.LayerControl().add_to(m_a2_switzerland)\n",
    "\n",
    "m_a2_switzerland_path = os.path.join('maps', 'Assignment_2_Switzerland.html')\n",
    "m_a2_switzerland.save(m_a2_switzerland_path)\n",
    "\n",
    "IFrame(m_a2_switzerland_path, width=1000, height=600)"
   ]
  },
  {
   "cell_type": "markdown",
   "metadata": {},
   "source": [
    "#### Discussion\n",
    "\n",
    "From the former visualisation, we can observe that the central and eastern cantons in Switzerland experience the lowest unemployment rate when calculated both with first discussed approach, when taking into account only registered unemployed people, and with the approach used by Swiss authorities. Canton that has the lowest unemployment rate, according to both of those metrics is Uri.\n",
    "\n",
    "On the other hand, western and northern cantons experience the highest unemployment rate. When utilizing two discussed approaches for the calculation of the unemployment rate, canton with the highest unemployment rate is in both cases Ginevra.\n",
    "\n",
    "Finally, interesting observation arises when comparing unemployment trend with that of people who are employed but are searching for a new job. Cantons with low unemployment rates have lower rate of employees who are looking to change their job, meaning that their satisfaction with their current job is higher. Moreover, cantons that have higher unemployment rate experience higher employee dissatisfaction. Cantons with the lowest and highest rate of employees who are looking for a new job are, respectively, Appenzello Interno and Giura.\n",
    "\n",
    "#### Review of the approach for the calculation of unemployment rate used by Swiss authorities\n",
    "\n",
    "We will shortly discuss the decision to include the data about employed people who are actively looking for a job when calculating the unemployment rate, since this approach necessarily raises the unemployment rate across all cantons. \n",
    "\n",
    "Use of this metric is an interesting choice since people who are working, but are actively looking for another job, are contributing to the economy and are active members of the labor market. Unemployment rates are often calculated in order to observe the size of active population who are not active members of the labor market.\n",
    "\n",
    "By including this metric in the overall formula for the unemployment rate, the Swiss government is providing more robust information about labor tendencies among unemployed people, as well as those who are looking for the change of job. This approach gives more information about the number of people who are offering their services to the future employers, as well as providing insight in the workplace dissatisfaction among current workforce.\n",
    "\n",
    "**It is key to have this information in mind when comparing unemployment rates between Switzerland and other countries, since this approach to calculating unemployment rate is not necessarily shared by other countries.**\n"
   ]
  },
  {
   "cell_type": "markdown",
   "metadata": {},
   "source": [
    "### Comparing Swiss and European unemployment rates"
   ]
  },
  {
   "cell_type": "markdown",
   "metadata": {},
   "source": [
    "The average unemployment rate of the European countries across two groupings, first across all member states and second across states that are in the *Eurozone* (have the *Euro* as their official currency):"
   ]
  },
  {
   "cell_type": "code",
   "execution_count": 52,
   "metadata": {},
   "outputs": [
    {
     "data": {
      "text/html": [
       "<div>\n",
       "<style>\n",
       "    .dataframe thead tr:only-child th {\n",
       "        text-align: right;\n",
       "    }\n",
       "\n",
       "    .dataframe thead th {\n",
       "        text-align: left;\n",
       "    }\n",
       "\n",
       "    .dataframe tbody tr th {\n",
       "        vertical-align: top;\n",
       "    }\n",
       "</style>\n",
       "<table border=\"1\" class=\"dataframe\">\n",
       "  <thead>\n",
       "    <tr style=\"text-align: right;\">\n",
       "      <th></th>\n",
       "      <th>country</th>\n",
       "      <th>unemployment_rate</th>\n",
       "    </tr>\n",
       "  </thead>\n",
       "  <tbody>\n",
       "    <tr>\n",
       "      <th>0</th>\n",
       "      <td>EU (28 countries)</td>\n",
       "      <td>8.6</td>\n",
       "    </tr>\n",
       "    <tr>\n",
       "      <th>2</th>\n",
       "      <td>Euro area (19 countries)</td>\n",
       "      <td>10.0</td>\n",
       "    </tr>\n",
       "  </tbody>\n",
       "</table>\n",
       "</div>"
      ],
      "text/plain": [
       "                    country  unemployment_rate\n",
       "0         EU (28 countries)                8.6\n",
       "2  Euro area (19 countries)               10.0"
      ]
     },
     "execution_count": 52,
     "metadata": {},
     "output_type": "execute_result"
    }
   ],
   "source": [
    "eurostat.iloc[[0,2]]"
   ]
  },
  {
   "cell_type": "markdown",
   "metadata": {},
   "source": [
    "Switzerland's unemployment rate according to two observerd metrics:\n",
    "* registred unemployed people\n",
    "* registred unemployed people and employed people searching for a new job"
   ]
  },
  {
   "cell_type": "code",
   "execution_count": 56,
   "metadata": {
    "scrolled": true
   },
   "outputs": [
    {
     "data": {
      "text/plain": [
       "1.6685560017211227"
      ]
     },
     "execution_count": 56,
     "metadata": {},
     "output_type": "execute_result"
    },
    {
     "data": {
      "text/plain": [
       "2.540740740740741"
      ]
     },
     "execution_count": 56,
     "metadata": {},
     "output_type": "execute_result"
    }
   ],
   "source": [
    "amstat_data.Registered_rate.mean()\n",
    "amstat_data.Unemployment_rate.mean()"
   ]
  },
  {
   "cell_type": "markdown",
   "metadata": {},
   "source": [
    "We observe that the Swiss unemployment rate is significantly lower than that of the rest of Europe."
   ]
  },
  {
   "cell_type": "markdown",
   "metadata": {},
   "source": [
    "### Assignment 3.1\n",
    "\n",
    "Use the [amstat](https://www.amstat.ch) website again to find a dataset that includes the unemployment rates in Switzerland at recent date, this time making a distinction between *Swiss* and *foreign* workers.\n",
    "\n",
    "The Economic Secretary (SECO) releases [a monthly report](https://www.seco.admin.ch/seco/fr/home/Arbeit/Arbeitslosenversicherung/arbeitslosenzahlen.html) on the state of the employment market. In the latest report (September 2017), it is noted that there is a discrepancy between the unemployment rates for *foreign* (`5.1%`) and *Swiss* (`2.2%`) workers. \n",
    "\n",
    "Show the difference in unemployment rates between the two categories in each canton on a Choropleth map (*hint* The easy way is to show two separate maps, but can you think of something better?). Where are the differences most visible? Why do you think that is?"
   ]
  },
  {
   "cell_type": "markdown",
   "metadata": {},
   "source": [
    "#### Amstat data loading\n",
    "\n",
    "-- Add file orign here\n",
    "\n",
    "We have downloaded unemployment data from the *amstat* website in the Italian language. Consequentially, we have manually translated canton names and identifiers to English for the future manipulation and display."
   ]
  },
  {
   "cell_type": "code",
   "execution_count": 96,
   "metadata": {},
   "outputs": [],
   "source": [
    "amstat_nation_path = os.path.join('data', 'Tasso di disoccupazione_foreign.xlsx')\n",
    "amstat_nation = pd.read_excel(amstat_nation_path, skiprows=[1])\n",
    "\n",
    "amstat_swiss = amstat_nation.loc[amstat_nation.Nationality == 'svizzeri'] # Swizzeri = Swiss\n",
    "amstat_swiss['ID']=['ZH','BE','LU','UR','SZ','OW','NW','GL','ZG','SO','BS','BL','SH','AR',\n",
    "              'AI','SG','GR','AG','TG','FR','TI','VD','VS','NE','GE','JU']\n",
    "\n",
    "amstat_foreing = amstat_nation.loc[amstat_nation.Nationality=='stranieri'] # Stranieri = foreing\n",
    "amstat_foreing['ID']=['ZH','BE','LU','UR','SZ','OW','NW','GL','ZG','SO','BS','BL','SH','AR',\n",
    "              'AI','SG','GR','AG','TG','FR','TI','VD','VS','NE','GE','JU']"
   ]
  },
  {
   "cell_type": "markdown",
   "metadata": {},
   "source": [
    "We will utilize `describe` function to give us an overview of the data with which we are working, both for swiss and foreign workers."
   ]
  },
  {
   "cell_type": "code",
   "execution_count": 97,
   "metadata": {},
   "outputs": [
    {
     "data": {
      "text/html": [
       "<div>\n",
       "<style>\n",
       "    .dataframe thead tr:only-child th {\n",
       "        text-align: right;\n",
       "    }\n",
       "\n",
       "    .dataframe thead th {\n",
       "        text-align: left;\n",
       "    }\n",
       "\n",
       "    .dataframe tbody tr th {\n",
       "        vertical-align: top;\n",
       "    }\n",
       "</style>\n",
       "<table border=\"1\" class=\"dataframe\">\n",
       "  <thead>\n",
       "    <tr style=\"text-align: right;\">\n",
       "      <th></th>\n",
       "      <th>Unemployments_rate</th>\n",
       "      <th>Unemployed_registered</th>\n",
       "      <th>Employed_looking_for_ job</th>\n",
       "    </tr>\n",
       "  </thead>\n",
       "  <tbody>\n",
       "    <tr>\n",
       "      <th>count</th>\n",
       "      <td>26.000000</td>\n",
       "      <td>26.000000</td>\n",
       "      <td>26.000000</td>\n",
       "    </tr>\n",
       "    <tr>\n",
       "      <th>mean</th>\n",
       "      <td>1.957692</td>\n",
       "      <td>2854.461538</td>\n",
       "      <td>1187.038462</td>\n",
       "    </tr>\n",
       "    <tr>\n",
       "      <th>std</th>\n",
       "      <td>1.126472</td>\n",
       "      <td>3523.350590</td>\n",
       "      <td>1035.878930</td>\n",
       "    </tr>\n",
       "    <tr>\n",
       "      <th>min</th>\n",
       "      <td>0.400000</td>\n",
       "      <td>39.000000</td>\n",
       "      <td>30.000000</td>\n",
       "    </tr>\n",
       "    <tr>\n",
       "      <th>25%</th>\n",
       "      <td>1.325000</td>\n",
       "      <td>652.000000</td>\n",
       "      <td>401.750000</td>\n",
       "    </tr>\n",
       "    <tr>\n",
       "      <th>50%</th>\n",
       "      <td>1.850000</td>\n",
       "      <td>1953.500000</td>\n",
       "      <td>843.000000</td>\n",
       "    </tr>\n",
       "    <tr>\n",
       "      <th>75%</th>\n",
       "      <td>2.425000</td>\n",
       "      <td>2866.250000</td>\n",
       "      <td>1668.500000</td>\n",
       "    </tr>\n",
       "    <tr>\n",
       "      <th>max</th>\n",
       "      <td>4.800000</td>\n",
       "      <td>15114.000000</td>\n",
       "      <td>3658.000000</td>\n",
       "    </tr>\n",
       "  </tbody>\n",
       "</table>\n",
       "</div>"
      ],
      "text/plain": [
       "       Unemployments_rate  Unemployed_registered  Employed_looking_for_ job\n",
       "count           26.000000              26.000000                  26.000000\n",
       "mean             1.957692            2854.461538                1187.038462\n",
       "std              1.126472            3523.350590                1035.878930\n",
       "min              0.400000              39.000000                  30.000000\n",
       "25%              1.325000             652.000000                 401.750000\n",
       "50%              1.850000            1953.500000                 843.000000\n",
       "75%              2.425000            2866.250000                1668.500000\n",
       "max              4.800000           15114.000000                3658.000000"
      ]
     },
     "execution_count": 97,
     "metadata": {},
     "output_type": "execute_result"
    },
    {
     "data": {
      "text/html": [
       "<div>\n",
       "<style>\n",
       "    .dataframe thead tr:only-child th {\n",
       "        text-align: right;\n",
       "    }\n",
       "\n",
       "    .dataframe thead th {\n",
       "        text-align: left;\n",
       "    }\n",
       "\n",
       "    .dataframe tbody tr th {\n",
       "        vertical-align: top;\n",
       "    }\n",
       "</style>\n",
       "<table border=\"1\" class=\"dataframe\">\n",
       "  <thead>\n",
       "    <tr style=\"text-align: right;\">\n",
       "      <th></th>\n",
       "      <th>Unemployments_rate</th>\n",
       "      <th>Unemployed_registered</th>\n",
       "      <th>Employed_looking_for_ job</th>\n",
       "    </tr>\n",
       "  </thead>\n",
       "  <tbody>\n",
       "    <tr>\n",
       "      <th>count</th>\n",
       "      <td>26.000000</td>\n",
       "      <td>26.000000</td>\n",
       "      <td>26.000000</td>\n",
       "    </tr>\n",
       "    <tr>\n",
       "      <th>mean</th>\n",
       "      <td>4.465385</td>\n",
       "      <td>2267.423077</td>\n",
       "      <td>1138.153846</td>\n",
       "    </tr>\n",
       "    <tr>\n",
       "      <th>std</th>\n",
       "      <td>1.618133</td>\n",
       "      <td>2869.023585</td>\n",
       "      <td>1018.647562</td>\n",
       "    </tr>\n",
       "    <tr>\n",
       "      <th>min</th>\n",
       "      <td>2.000000</td>\n",
       "      <td>23.000000</td>\n",
       "      <td>10.000000</td>\n",
       "    </tr>\n",
       "    <tr>\n",
       "      <th>25%</th>\n",
       "      <td>3.400000</td>\n",
       "      <td>510.500000</td>\n",
       "      <td>270.500000</td>\n",
       "    </tr>\n",
       "    <tr>\n",
       "      <th>50%</th>\n",
       "      <td>4.600000</td>\n",
       "      <td>1581.000000</td>\n",
       "      <td>834.500000</td>\n",
       "    </tr>\n",
       "    <tr>\n",
       "      <th>75%</th>\n",
       "      <td>5.250000</td>\n",
       "      <td>2258.750000</td>\n",
       "      <td>1675.500000</td>\n",
       "    </tr>\n",
       "    <tr>\n",
       "      <th>max</th>\n",
       "      <td>9.000000</td>\n",
       "      <td>12111.000000</td>\n",
       "      <td>3902.000000</td>\n",
       "    </tr>\n",
       "  </tbody>\n",
       "</table>\n",
       "</div>"
      ],
      "text/plain": [
       "       Unemployments_rate  Unemployed_registered  Employed_looking_for_ job\n",
       "count           26.000000              26.000000                  26.000000\n",
       "mean             4.465385            2267.423077                1138.153846\n",
       "std              1.618133            2869.023585                1018.647562\n",
       "min              2.000000              23.000000                  10.000000\n",
       "25%              3.400000             510.500000                 270.500000\n",
       "50%              4.600000            1581.000000                 834.500000\n",
       "75%              5.250000            2258.750000                1675.500000\n",
       "max              9.000000           12111.000000                3902.000000"
      ]
     },
     "execution_count": 97,
     "metadata": {},
     "output_type": "execute_result"
    }
   ],
   "source": [
    "amstat_swiss.describe()\n",
    "amstat_foreing.describe()"
   ]
  },
  {
   "cell_type": "markdown",
   "metadata": {},
   "source": [
    "As the next step, we will merge two data frames based on their ID's and canton names. Moreover, we will calculate the difference between unemployment rates of these two data frames:"
   ]
  },
  {
   "cell_type": "code",
   "execution_count": 98,
   "metadata": {
    "scrolled": true
   },
   "outputs": [
    {
     "data": {
      "text/html": [
       "<div>\n",
       "<style>\n",
       "    .dataframe thead tr:only-child th {\n",
       "        text-align: right;\n",
       "    }\n",
       "\n",
       "    .dataframe thead th {\n",
       "        text-align: left;\n",
       "    }\n",
       "\n",
       "    .dataframe tbody tr th {\n",
       "        vertical-align: top;\n",
       "    }\n",
       "</style>\n",
       "<table border=\"1\" class=\"dataframe\">\n",
       "  <thead>\n",
       "    <tr style=\"text-align: right;\">\n",
       "      <th></th>\n",
       "      <th>rate_difference</th>\n",
       "    </tr>\n",
       "  </thead>\n",
       "  <tbody>\n",
       "    <tr>\n",
       "      <th>count</th>\n",
       "      <td>26.000000</td>\n",
       "    </tr>\n",
       "    <tr>\n",
       "      <th>mean</th>\n",
       "      <td>-2.507692</td>\n",
       "    </tr>\n",
       "    <tr>\n",
       "      <th>std</th>\n",
       "      <td>0.882688</td>\n",
       "    </tr>\n",
       "    <tr>\n",
       "      <th>min</th>\n",
       "      <td>-5.400000</td>\n",
       "    </tr>\n",
       "    <tr>\n",
       "      <th>25%</th>\n",
       "      <td>-2.875000</td>\n",
       "    </tr>\n",
       "    <tr>\n",
       "      <th>50%</th>\n",
       "      <td>-2.450000</td>\n",
       "    </tr>\n",
       "    <tr>\n",
       "      <th>75%</th>\n",
       "      <td>-2.000000</td>\n",
       "    </tr>\n",
       "    <tr>\n",
       "      <th>max</th>\n",
       "      <td>-0.900000</td>\n",
       "    </tr>\n",
       "  </tbody>\n",
       "</table>\n",
       "</div>"
      ],
      "text/plain": [
       "       rate_difference\n",
       "count        26.000000\n",
       "mean         -2.507692\n",
       "std           0.882688\n",
       "min          -5.400000\n",
       "25%          -2.875000\n",
       "50%          -2.450000\n",
       "75%          -2.000000\n",
       "max          -0.900000"
      ]
     },
     "execution_count": 98,
     "metadata": {},
     "output_type": "execute_result"
    }
   ],
   "source": [
    "amstat_nation = pd.merge(amstat_swiss, amstat_foreing, how='inner', on=['Canton','ID'], suffixes=('_sw', '_fo'))\n",
    "amstat_nation['rate_difference'] = amstat_nation.Unemployments_rate_sw - amstat_nation.Unemployments_rate_fo\n",
    "\n",
    "amstat_nation[['rate_difference']].describe()"
   ]
  },
  {
   "cell_type": "markdown",
   "metadata": {},
   "source": [
    "We calculated the difference between the unemployment rates of these two data frames by subtracting the unemployment rate of foreign workers from the unemployment rate of Swiss workers across all cantons. From the above output of the `describe` function call, we observe that all cantons experience lower unemployment rate for the Swiss workers than for the foreign workers - both minimum and maximum difference values are negative.\n",
    "\n",
    "We will approach data visualization by overlaying data about unemployment rates of Swiss workers and foreign workers. Furthermore, we will add an additional layer that describes the difference between these two unemployment rates, where values presented are increases in the unemployment rate for foreign workers in the observed canton."
   ]
  },
  {
   "cell_type": "code",
   "execution_count": 99,
   "metadata": {
    "scrolled": true
   },
   "outputs": [
    {
     "data": {
      "text/plain": [
       "<folium.map.LayerControl at 0x1a0ffab748>"
      ]
     },
     "execution_count": 99,
     "metadata": {},
     "output_type": "execute_result"
    },
    {
     "data": {
      "text/html": [
       "\n",
       "        <iframe\n",
       "            width=\"1000\"\n",
       "            height=\"600\"\n",
       "            src=\"maps/Assignment_3_Switzerland.html\"\n",
       "            frameborder=\"0\"\n",
       "            allowfullscreen\n",
       "        ></iframe>\n",
       "        "
      ],
      "text/plain": [
       "<IPython.lib.display.IFrame at 0x106d65198>"
      ]
     },
     "execution_count": 99,
     "metadata": {},
     "output_type": "execute_result"
    }
   ],
   "source": [
    "amstat_nation['rate_difference'] = -amstat_nation['rate_difference']\n",
    "\n",
    "m_a3_switzerland = folium.Map(switzerland_center, zoom_start=8)\n",
    "\n",
    "m_a3_switzerland.choropleth(canton_geo_data,\n",
    "                            name = 'Swiss unemployment rate',\n",
    "                            data = amstat_swiss,\n",
    "                            columns = ['ID','Unemployments_rate'],\n",
    "                            key_on = 'feature.id',\n",
    "                            threshold_scale = [0.4, 1.325, 1.85, 2.425, 4.8],\n",
    "                            fill_color = 'OrRd',\n",
    "                            fill_opacity = 0.7,\n",
    "                            line_opacity = 0.2,\n",
    "                            legend_name = 'Unemployement rate (%)',\n",
    "                            topojson = 'objects.cantons')\n",
    "\n",
    "m_a3_switzerland.choropleth(canton_geo_data,\n",
    "                            name = 'Foreigners unemployment rate',\n",
    "                            data = amstat_foreing,\n",
    "                            columns = ['ID','Unemployments_rate'],\n",
    "                            key_on = 'feature.id',\n",
    "                            threshold_scale = [2, 3.4, 4.6, 5.25, 9],\n",
    "                            fill_color = 'BuGn',\n",
    "                            fill_opacity = 0.7,\n",
    "                            line_opacity = 0.2,\n",
    "                            legend_name = 'Unemployement rate (%)',\n",
    "                            topojson = 'objects.cantons')\n",
    "\n",
    "m_a3_switzerland.choropleth(canton_geo_data,\n",
    "                            name = 'Difference in unemployment rates',\n",
    "                            data = amstat_nation,\n",
    "                            columns = ['ID','rate_difference'],\n",
    "                            key_on = 'feature.id',\n",
    "                            threshold_scale = [0.9, 2, 2.45, 2.875, 5.4],\n",
    "                            fill_color = 'PuBuGn',\n",
    "                            fill_opacity = 0.7,\n",
    "                            line_opacity = 0.2,\n",
    "                            legend_name = 'Difference between the unemployment rate of foreign and Swiss workers',\n",
    "                            topojson = 'objects.cantons')\n",
    "\n",
    "folium.LayerControl().add_to(m_a3_switzerland)\n",
    "\n",
    "m_a3_switzerland_path = os.path.join('maps', 'Assignment_3_Switzerland.html')\n",
    "m_a3_switzerland.save(m_a3_switzerland_path)\n",
    "\n",
    "IFrame(m_a3_switzerland_path, width=1000, height=600)"
   ]
  },
  {
   "cell_type": "markdown",
   "metadata": {},
   "source": [
    "#### Discussion\n",
    "\n",
    "We see that when observed independently, unemployment trends of foreign and Swiss workers in general follow the overall trend of Swiss unemployment rate with cantons in center and east experiencing lower unemployment rate, while the western and northern cantons experiencing higher unemployment rates.\n",
    "\n",
    "Moreover, visualization above and particularly the overlay with difference in unemployment rates between foreign and Swiss workers points to several other interesting trends. Discrepancy in unemployment rates between foreign and Swiss workers is present across all cantons, with cantons in north claiming the biggest difference. Due to the nature of this project where we are working with the *raw* unemployment data, data outside of the greater socioeconomic context, we will point to two possible reasons why this is the case (with the combination of the two also being a possibility), while leaving the issue open for discussion in some future research. First possible reason is higher bias of employers in the northern cantons where they are favorizing domestic workers over foreign workers. The second possible reason could be tendency of international workers to favor employment opportunities in the affected cantons over the others due to the standard of living and wages offered - in this way overflowing labor market with offers that do not meet current demand."
   ]
  },
  {
   "cell_type": "markdown",
   "metadata": {},
   "source": [
    "### Assignment 3.2\n",
    "\n",
    "Now let's refine the analysis by adding the differences between age groups. As you may have guessed it is nearly impossible to plot so many variables on a map. Make a bar plot, which is a better suited visualization tool for this type of multivariate data."
   ]
  },
  {
   "cell_type": "code",
   "execution_count": null,
   "metadata": {},
   "outputs": [],
   "source": []
  }
 ],
 "metadata": {
  "kernelspec": {
   "display_name": "Python 3",
   "language": "python",
   "name": "python3"
  },
  "language_info": {
   "codemirror_mode": {
    "name": "ipython",
    "version": 3
   },
   "file_extension": ".py",
   "mimetype": "text/x-python",
   "name": "python",
   "nbconvert_exporter": "python",
   "pygments_lexer": "ipython3",
   "version": "3.6.2"
  }
 },
 "nbformat": 4,
 "nbformat_minor": 2
}
