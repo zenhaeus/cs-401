{
 "cells": [
  {
   "cell_type": "markdown",
   "metadata": {},
   "source": [
    "## Question 1: Propensity score matching\n",
    "\n",
    "In this exercise, you will apply [propensity score matching](http://www.stewartschultz.com/statistics/books/Design%20of%20observational%20studies.pdf), which we discussed in lecture 5 (\"Observational studies\"), in order to draw conclusions from an observational study.\n",
    "\n",
    "We will work with a by-now classic dataset from Robert LaLonde's study \"[Evaluating the Econometric Evaluations of Training Programs](http://people.hbs.edu/nashraf/LaLonde_1986.pdf)\" (1986).\n",
    "The study investigated the effect of a job training program (\"National Supported Work Demonstration\") on the real earnings of an individual, a couple of years after completion of the program.\n",
    "Your task is to determine the effectiveness of the \"treatment\" represented by the job training program.\n",
    "\n"
   ]
  },
  {
   "cell_type": "markdown",
   "metadata": {},
   "source": [
    "#### Dataset description\n",
    "\n",
    "- `treat`: 1 if the subject participated in the job training program, 0 otherwise\n",
    "- `age`: the subject's age\n",
    "- `educ`: years of education\n",
    "- `race`: categorical variable with three possible values: Black, Hispanic, or White\n",
    "- `married`: 1 if the subject was married at the time of the training program, 0 otherwise\n",
    "- `nodegree`: 1 if the subject has earned no school degree, 0 otherwise\n",
    "- `re74`: real earnings in 1974 (pre-treatment)\n",
    "- `re75`: real earnings in 1975 (pre-treatment)\n",
    "- `re78`: real earnings in 1978 (outcome)\n",
    "\n",
    "If you want to brush up your knowledge on propensity scores and observational studies, we highly recommend Rosenbaum's excellent book on the [\"Design of Observational Studies\"](http://www.stewartschultz.com/statistics/books/Design%20of%20observational%20studies.pdf). Even just reading the first chapter (18 pages) will help you a lot.\n",
    "\n"
   ]
  },
  {
   "cell_type": "markdown",
   "metadata": {},
   "source": [
    "### Libraries"
   ]
  },
  {
   "cell_type": "code",
   "execution_count": 2,
   "metadata": {
    "collapsed": true
   },
   "outputs": [],
   "source": [
    "import pandas as pd\n",
    "import numpy as np\n",
    "import matplotlib.pyplot as plt\n",
    "from sklearn.linear_model import LinearRegression, LogisticRegression\n",
    "from sklearn.preprocessing import OneHotEncoder\n",
    "from pandas.plotting import scatter_matrix\n",
    "from sklearn.model_selection import cross_val_predict\n",
    "from sklearn.model_selection import cross_val_score\n",
    "import seaborn as sns\n",
    "import networkx as nx\n",
    "from networkx.algorithms import bipartite\n",
    "%matplotlib inline\n"
   ]
  },
  {
   "cell_type": "markdown",
   "metadata": {},
   "source": [
    "### Read data"
   ]
  },
  {
   "cell_type": "code",
   "execution_count": 3,
   "metadata": {},
   "outputs": [
    {
     "data": {
      "text/html": [
       "<div>\n",
       "<style>\n",
       "    .dataframe thead tr:only-child th {\n",
       "        text-align: right;\n",
       "    }\n",
       "\n",
       "    .dataframe thead th {\n",
       "        text-align: left;\n",
       "    }\n",
       "\n",
       "    .dataframe tbody tr th {\n",
       "        vertical-align: top;\n",
       "    }\n",
       "</style>\n",
       "<table border=\"1\" class=\"dataframe\">\n",
       "  <thead>\n",
       "    <tr style=\"text-align: right;\">\n",
       "      <th></th>\n",
       "      <th>treat</th>\n",
       "      <th>age</th>\n",
       "      <th>educ</th>\n",
       "      <th>black</th>\n",
       "      <th>hispan</th>\n",
       "      <th>married</th>\n",
       "      <th>nodegree</th>\n",
       "      <th>re74</th>\n",
       "      <th>re75</th>\n",
       "      <th>re78</th>\n",
       "    </tr>\n",
       "    <tr>\n",
       "      <th>id</th>\n",
       "      <th></th>\n",
       "      <th></th>\n",
       "      <th></th>\n",
       "      <th></th>\n",
       "      <th></th>\n",
       "      <th></th>\n",
       "      <th></th>\n",
       "      <th></th>\n",
       "      <th></th>\n",
       "      <th></th>\n",
       "    </tr>\n",
       "  </thead>\n",
       "  <tbody>\n",
       "    <tr>\n",
       "      <th>NSW1</th>\n",
       "      <td>1</td>\n",
       "      <td>37</td>\n",
       "      <td>11</td>\n",
       "      <td>1</td>\n",
       "      <td>0</td>\n",
       "      <td>1</td>\n",
       "      <td>1</td>\n",
       "      <td>0.0</td>\n",
       "      <td>0.0</td>\n",
       "      <td>9930.0460</td>\n",
       "    </tr>\n",
       "    <tr>\n",
       "      <th>NSW2</th>\n",
       "      <td>1</td>\n",
       "      <td>22</td>\n",
       "      <td>9</td>\n",
       "      <td>0</td>\n",
       "      <td>1</td>\n",
       "      <td>0</td>\n",
       "      <td>1</td>\n",
       "      <td>0.0</td>\n",
       "      <td>0.0</td>\n",
       "      <td>3595.8940</td>\n",
       "    </tr>\n",
       "    <tr>\n",
       "      <th>NSW3</th>\n",
       "      <td>1</td>\n",
       "      <td>30</td>\n",
       "      <td>12</td>\n",
       "      <td>1</td>\n",
       "      <td>0</td>\n",
       "      <td>0</td>\n",
       "      <td>0</td>\n",
       "      <td>0.0</td>\n",
       "      <td>0.0</td>\n",
       "      <td>24909.4500</td>\n",
       "    </tr>\n",
       "    <tr>\n",
       "      <th>NSW4</th>\n",
       "      <td>1</td>\n",
       "      <td>27</td>\n",
       "      <td>11</td>\n",
       "      <td>1</td>\n",
       "      <td>0</td>\n",
       "      <td>0</td>\n",
       "      <td>1</td>\n",
       "      <td>0.0</td>\n",
       "      <td>0.0</td>\n",
       "      <td>7506.1460</td>\n",
       "    </tr>\n",
       "    <tr>\n",
       "      <th>NSW5</th>\n",
       "      <td>1</td>\n",
       "      <td>33</td>\n",
       "      <td>8</td>\n",
       "      <td>1</td>\n",
       "      <td>0</td>\n",
       "      <td>0</td>\n",
       "      <td>1</td>\n",
       "      <td>0.0</td>\n",
       "      <td>0.0</td>\n",
       "      <td>289.7899</td>\n",
       "    </tr>\n",
       "  </tbody>\n",
       "</table>\n",
       "</div>"
      ],
      "text/plain": [
       "      treat  age  educ  black  hispan  married  nodegree  re74  re75  \\\n",
       "id                                                                     \n",
       "NSW1      1   37    11      1       0        1         1   0.0   0.0   \n",
       "NSW2      1   22     9      0       1        0         1   0.0   0.0   \n",
       "NSW3      1   30    12      1       0        0         0   0.0   0.0   \n",
       "NSW4      1   27    11      1       0        0         1   0.0   0.0   \n",
       "NSW5      1   33     8      1       0        0         1   0.0   0.0   \n",
       "\n",
       "            re78  \n",
       "id                \n",
       "NSW1   9930.0460  \n",
       "NSW2   3595.8940  \n",
       "NSW3  24909.4500  \n",
       "NSW4   7506.1460  \n",
       "NSW5    289.7899  "
      ]
     },
     "execution_count": 3,
     "metadata": {},
     "output_type": "execute_result"
    }
   ],
   "source": [
    "df = pd.read_csv('lalonde.csv',index_col=0)\n",
    "df.head()"
   ]
  },
  {
   "cell_type": "markdown",
   "metadata": {},
   "source": [
    "Analysing the dataset, we find out that there are no missing values and that there are some attributes(`treat`, `black`, `hispan`, `married` and `nodegree`) that are categorical, so we convert this to a category type."
   ]
  },
  {
   "cell_type": "code",
   "execution_count": 4,
   "metadata": {},
   "outputs": [
    {
     "data": {
      "text/plain": [
       "treat       False\n",
       "age         False\n",
       "educ        False\n",
       "black       False\n",
       "hispan      False\n",
       "married     False\n",
       "nodegree    False\n",
       "re74        False\n",
       "re75        False\n",
       "re78        False\n",
       "dtype: bool"
      ]
     },
     "execution_count": 4,
     "metadata": {},
     "output_type": "execute_result"
    }
   ],
   "source": [
    "df['treat'] = df.treat.astype('category')\n",
    "df['black'] = df.black.astype('category')\n",
    "df['hispan'] = df.hispan.astype('category')\n",
    "df['married'] = df.married.astype('category')\n",
    "df['nodegree'] = df.nodegree.astype('category')\n",
    "\n",
    "df.isnull().any()"
   ]
  },
  {
   "cell_type": "markdown",
   "metadata": {},
   "source": [
    "#### 1. A naive analysis\n",
    "\n",
    "Compare the distribution of the outcome variable (`re78`) between the two groups, using plots and numbers.\n",
    "To summarize and compare the distributions, you may use the techniques we discussed in lectures 4 (\"Read the stats carefully\") and 6 (\"Data visualization\").\n",
    "\n",
    "What might a naive \"researcher\" conclude from this superficial analysis?\n"
   ]
  },
  {
   "cell_type": "markdown",
   "metadata": {},
   "source": [
    "### Plot analysis\n",
    "We first plot, using histograms, the distribution of the variable `re78` in the two groups."
   ]
  },
  {
   "cell_type": "code",
   "execution_count": 41,
   "metadata": {},
   "outputs": [
    {
     "data": {
      "text/plain": [
       "<matplotlib.text.Text at 0x7f473a70b518>"
      ]
     },
     "execution_count": 41,
     "metadata": {},
     "output_type": "execute_result"
    },
    {
     "data": {
      "image/png": "[encoded data removed]",
      "text/plain": [
       "<matplotlib.figure.Figure at 0x7f473aa65470>"
      ]
     },
     "metadata": {},
     "output_type": "display_data"
    }
   ],
   "source": [
    "#divide the two groups and plot\n",
    "treat = df[df.treat == 1]\n",
    "notreat = df[df.treat == 0]\n",
    "\n",
    "treat_re78 = treat[['re78']]\n",
    "notreat_re78 = notreat[['re78']]\n",
    "\n",
    "fig, ax = plt.subplots(1, 2, sharey=True, figsize=(10, 3));\n",
    "sns.distplot(norm_hist=True, ax=ax[0], kde=False, a=treat_re78)\n",
    "ax[0].set_xlabel('treated')\n",
    "sns.distplot(norm_hist=True, ax=ax[1], kde=False, a=notreat_re78)\n",
    "ax[0].set_ylabel('Frequency')\n",
    "ax[1].set_xlabel('Not treated')"
   ]
  },
  {
   "cell_type": "code",
   "execution_count": 39,
   "metadata": {},
   "outputs": [
    {
     "data": {
      "text/plain": [
       "<matplotlib.legend.Legend at 0x7f473a8b1630>"
      ]
     },
     "execution_count": 39,
     "metadata": {},
     "output_type": "execute_result"
    },
    {
     "data": {
      "image/png": "[encoded data removed]",
      "text/plain": [
       "<matplotlib.figure.Figure at 0x7f473a8b1400>"
      ]
     },
     "metadata": {},
     "output_type": "display_data"
    }
   ],
   "source": [
    "sns.distplot(norm_hist=True, kde=False, a=treat_re78, label='Treated')\n",
    "sns.distplot(norm_hist=True, kde=False, a=notreat_re78, label='Not treated')\n",
    "plt.ylabel('Frequency')\n",
    "plt.legend()"
   ]
  },
  {
   "cell_type": "markdown",
   "metadata": {},
   "source": [
    "We first notice from the first two plots that the distribution of the two groups have a similar shape, resembling an exponential distribution, while the third plot allows us to compare directly the values of `re78` in the two groups, we see that in proportion there are more individuals with a very low income (0 or close to 0) in the not treated group, whereas the treat group presents some outliers (income higher than 25000$). In order to check if the variable `re78` has an exponential distribution, we decide to plot our dataset in a loglog plot."
   ]
  },
  {
   "cell_type": "markdown",
   "metadata": {},
   "source": [
    "However, it is difficult to compare distributions using only histogram, beacuse they are influenced by the size of the group and don't give us any idea about how many people have an income under or over a certain threshold, so we decide to use boxplots in order to show more information."
   ]
  },
  {
   "cell_type": "code",
   "execution_count": 44,
   "metadata": {},
   "outputs": [
    {
     "data": {
      "text/plain": [
       "<matplotlib.axes._subplots.AxesSubplot at 0x7f473a1e09e8>"
      ]
     },
     "execution_count": 44,
     "metadata": {},
     "output_type": "execute_result"
    },
    {
     "data": {
      "image/png": "[encoded data removed]",
      "text/plain": [
       "<matplotlib.figure.Figure at 0x7f473a621f28>"
      ]
     },
     "metadata": {},
     "output_type": "display_data"
    }
   ],
   "source": [
    "fig, axs = plt.subplots(1, 2, figsize=(10,4))\n",
    "sns.boxplot(x=df.treat,y=df.re78, ax=axs[0])\n",
    "no_outliers=df[df.re78 < 35000]\n",
    "sns.boxplot(x=no_outliers.treat,y=no_outliers.re78, ax=axs[1])"
   ]
  },
  {
   "cell_type": "markdown",
   "metadata": {},
   "source": [
    "In the former image, but since the distributions of the variables are highly concentrated around lower values, their differences aren't so clear, so we decided to remove two outliers(income higher than 35000$) from the dataset. Analysing the latter plots, we can see that the medium value of income, the third quartile and the 0.90 quantile in the treated group is lower than the one in the other groups, which looks very strange. In fact the job training program is supposed to help people improve their income, but removing outliers, it looks like that on average not attending the programm is better than attend it. However the first quantile is higher in the treated group, that could mean that after attending the job program, many people find a job and increase their income a little, while most of the people who did not have a job and did not attend the program are still unemployed. \n"
   ]
  },
  {
   "cell_type": "markdown",
   "metadata": {},
   "source": [
    "### Numerical analysis"
   ]
  },
  {
   "cell_type": "code",
   "execution_count": 233,
   "metadata": {
    "scrolled": true
   },
   "outputs": [
    {
     "data": {
      "text/html": [
       "<div>\n",
       "<style>\n",
       "    .dataframe thead tr:only-child th {\n",
       "        text-align: right;\n",
       "    }\n",
       "\n",
       "    .dataframe thead th {\n",
       "        text-align: left;\n",
       "    }\n",
       "\n",
       "    .dataframe tbody tr th {\n",
       "        vertical-align: top;\n",
       "    }\n",
       "</style>\n",
       "<table border=\"1\" class=\"dataframe\">\n",
       "  <thead>\n",
       "    <tr style=\"text-align: right;\">\n",
       "      <th></th>\n",
       "      <th>notreat</th>\n",
       "      <th>treat</th>\n",
       "      <th>treat_no_outliers</th>\n",
       "    </tr>\n",
       "  </thead>\n",
       "  <tbody>\n",
       "    <tr>\n",
       "      <th>count</th>\n",
       "      <td>429.000000</td>\n",
       "      <td>185.000000</td>\n",
       "      <td>183.000000</td>\n",
       "    </tr>\n",
       "    <tr>\n",
       "      <th>mean</th>\n",
       "      <td>6984.169742</td>\n",
       "      <td>6349.143530</td>\n",
       "      <td>5888.724990</td>\n",
       "    </tr>\n",
       "    <tr>\n",
       "      <th>std</th>\n",
       "      <td>7294.161791</td>\n",
       "      <td>7867.402218</td>\n",
       "      <td>6428.202899</td>\n",
       "    </tr>\n",
       "    <tr>\n",
       "      <th>min</th>\n",
       "      <td>0.000000</td>\n",
       "      <td>0.000000</td>\n",
       "      <td>0.000000</td>\n",
       "    </tr>\n",
       "    <tr>\n",
       "      <th>25%</th>\n",
       "      <td>220.181300</td>\n",
       "      <td>485.229800</td>\n",
       "      <td>387.509850</td>\n",
       "    </tr>\n",
       "    <tr>\n",
       "      <th>50%</th>\n",
       "      <td>4975.505000</td>\n",
       "      <td>4232.309000</td>\n",
       "      <td>4181.942000</td>\n",
       "    </tr>\n",
       "    <tr>\n",
       "      <th>75%</th>\n",
       "      <td>11688.820000</td>\n",
       "      <td>9642.999000</td>\n",
       "      <td>9578.521000</td>\n",
       "    </tr>\n",
       "    <tr>\n",
       "      <th>max</th>\n",
       "      <td>25564.670000</td>\n",
       "      <td>60307.930000</td>\n",
       "      <td>34099.280000</td>\n",
       "    </tr>\n",
       "  </tbody>\n",
       "</table>\n",
       "</div>"
      ],
      "text/plain": [
       "            notreat         treat  treat_no_outliers\n",
       "count    429.000000    185.000000         183.000000\n",
       "mean    6984.169742   6349.143530        5888.724990\n",
       "std     7294.161791   7867.402218        6428.202899\n",
       "min        0.000000      0.000000           0.000000\n",
       "25%      220.181300    485.229800         387.509850\n",
       "50%     4975.505000   4232.309000        4181.942000\n",
       "75%    11688.820000   9642.999000        9578.521000\n",
       "max    25564.670000  60307.930000       34099.280000"
      ]
     },
     "execution_count": 233,
     "metadata": {},
     "output_type": "execute_result"
    }
   ],
   "source": [
    "comparison = pd.DataFrame({\n",
    "    'notreat' : notreat.describe().re78,\n",
    "    'treat' : treat.describe().re78,\n",
    "    'treat_no_outliers' : no_outliers.loc[no_outliers.treat==1].describe().re78\n",
    "})\n",
    "\n",
    "comparison"
   ]
  },
  {
   "cell_type": "code",
   "execution_count": 49,
   "metadata": {},
   "outputs": [
    {
     "name": "stdout",
     "output_type": "stream",
     "text": [
      "There are 45 people without job in the treat group, 24.32 in percentage\n",
      "There are 98 people without job in the notreat group, 22.84 in percentage\n"
     ]
    }
   ],
   "source": [
    "zero_treat = treat.loc[treat.re78==0].count().re78\n",
    "n = treat.count().re78\n",
    "zero_notreat = notreat.loc[notreat.re78==0].count().re78\n",
    "m = notreat.count().re78\n",
    "#fix\n",
    "print(\"There are %d people without job in the treat group, %1.2f in percentage\"  %(zero_treat, zero_treat/n*100))\n",
    "print(\"There are %d people without job in the notreat group, %1.2f in percentage\"  %(zero_notreat, zero_notreat/m*100))"
   ]
  },
  {
   "cell_type": "markdown",
   "metadata": {},
   "source": [
    "As before, numerical analysis confirms what we have found using boxplots, but now we have find out that the proportion of people without a job is similar between the two groups. Moreover we can notice that the mean of the two distribution is much higher that median, so it confirms that we have heavy-tailed datasets, as in exponential distributions."
   ]
  },
  {
   "cell_type": "code",
   "execution_count": 50,
   "metadata": {},
   "outputs": [
    {
     "data": {
      "text/html": [
       "<div>\n",
       "<style>\n",
       "    .dataframe thead tr:only-child th {\n",
       "        text-align: right;\n",
       "    }\n",
       "\n",
       "    .dataframe thead th {\n",
       "        text-align: left;\n",
       "    }\n",
       "\n",
       "    .dataframe tbody tr th {\n",
       "        vertical-align: top;\n",
       "    }\n",
       "</style>\n",
       "<table border=\"1\" class=\"dataframe\">\n",
       "  <thead>\n",
       "    <tr style=\"text-align: right;\">\n",
       "      <th></th>\n",
       "      <th>diff_notreat</th>\n",
       "      <th>diff_treat</th>\n",
       "      <th>notreat</th>\n",
       "      <th>treat</th>\n",
       "    </tr>\n",
       "  </thead>\n",
       "  <tbody>\n",
       "    <tr>\n",
       "      <th>count</th>\n",
       "      <td>429.000000</td>\n",
       "      <td>185.000000</td>\n",
       "      <td>429.000000</td>\n",
       "      <td>185.000000</td>\n",
       "    </tr>\n",
       "    <tr>\n",
       "      <th>mean</th>\n",
       "      <td>4517.685299</td>\n",
       "      <td>4817.088216</td>\n",
       "      <td>6984.169742</td>\n",
       "      <td>6349.143530</td>\n",
       "    </tr>\n",
       "    <tr>\n",
       "      <th>std</th>\n",
       "      <td>6917.542917</td>\n",
       "      <td>8275.409427</td>\n",
       "      <td>7294.161791</td>\n",
       "      <td>7867.402218</td>\n",
       "    </tr>\n",
       "    <tr>\n",
       "      <th>min</th>\n",
       "      <td>-13776.530000</td>\n",
       "      <td>-20960.298000</td>\n",
       "      <td>0.000000</td>\n",
       "      <td>0.000000</td>\n",
       "    </tr>\n",
       "    <tr>\n",
       "      <th>25%</th>\n",
       "      <td>0.000000</td>\n",
       "      <td>0.000000</td>\n",
       "      <td>220.181300</td>\n",
       "      <td>485.229800</td>\n",
       "    </tr>\n",
       "    <tr>\n",
       "      <th>50%</th>\n",
       "      <td>2688.385000</td>\n",
       "      <td>2787.960000</td>\n",
       "      <td>4975.505000</td>\n",
       "      <td>4232.309000</td>\n",
       "    </tr>\n",
       "    <tr>\n",
       "      <th>75%</th>\n",
       "      <td>8007.601100</td>\n",
       "      <td>8087.487000</td>\n",
       "      <td>11688.820000</td>\n",
       "      <td>9642.999000</td>\n",
       "    </tr>\n",
       "    <tr>\n",
       "      <th>max</th>\n",
       "      <td>25564.670000</td>\n",
       "      <td>59023.851000</td>\n",
       "      <td>25564.670000</td>\n",
       "      <td>60307.930000</td>\n",
       "    </tr>\n",
       "  </tbody>\n",
       "</table>\n",
       "</div>"
      ],
      "text/plain": [
       "       diff_notreat    diff_treat       notreat         treat\n",
       "count    429.000000    185.000000    429.000000    185.000000\n",
       "mean    4517.685299   4817.088216   6984.169742   6349.143530\n",
       "std     6917.542917   8275.409427   7294.161791   7867.402218\n",
       "min   -13776.530000 -20960.298000      0.000000      0.000000\n",
       "25%        0.000000      0.000000    220.181300    485.229800\n",
       "50%     2688.385000   2787.960000   4975.505000   4232.309000\n",
       "75%     8007.601100   8087.487000  11688.820000   9642.999000\n",
       "max    25564.670000  59023.851000  25564.670000  60307.930000"
      ]
     },
     "execution_count": 50,
     "metadata": {},
     "output_type": "execute_result"
    }
   ],
   "source": [
    "#I did comparison with re75 by mistake, but this is not required, we have to decide if it's better to delete this part\n",
    "treat_diff = treat.re78 - treat.re75\n",
    "notreat_diff= notreat.re78 - notreat.re75\n",
    "\n",
    "comparison7578 = pd.DataFrame({\n",
    "    'notreat'      : notreat.describe().re78, \n",
    "    'treat'        : treat.describe().re78,\n",
    "    'diff_notreat' : notreat_diff.describe(), \n",
    "    'diff_treat'   : treat_diff.describe()\n",
    "})\n",
    "\n",
    "comparison7578"
   ]
  },
  {
   "cell_type": "code",
   "execution_count": 51,
   "metadata": {},
   "outputs": [
    {
     "data": {
      "text/html": [
       "<div>\n",
       "<style>\n",
       "    .dataframe thead tr:only-child th {\n",
       "        text-align: right;\n",
       "    }\n",
       "\n",
       "    .dataframe thead th {\n",
       "        text-align: left;\n",
       "    }\n",
       "\n",
       "    .dataframe tbody tr th {\n",
       "        vertical-align: top;\n",
       "    }\n",
       "</style>\n",
       "<table border=\"1\" class=\"dataframe\">\n",
       "  <thead>\n",
       "    <tr style=\"text-align: right;\">\n",
       "      <th></th>\n",
       "      <th>Proportion</th>\n",
       "    </tr>\n",
       "    <tr>\n",
       "      <th>Key</th>\n",
       "      <th></th>\n",
       "    </tr>\n",
       "  </thead>\n",
       "  <tbody>\n",
       "    <tr>\n",
       "      <th>better_notreat</th>\n",
       "      <td>0.662005</td>\n",
       "    </tr>\n",
       "    <tr>\n",
       "      <th>worse_notreat</th>\n",
       "      <td>0.240093</td>\n",
       "    </tr>\n",
       "    <tr>\n",
       "      <th>equal_notreat</th>\n",
       "      <td>0.097902</td>\n",
       "    </tr>\n",
       "    <tr>\n",
       "      <th>better_treat</th>\n",
       "      <td>0.670270</td>\n",
       "    </tr>\n",
       "    <tr>\n",
       "      <th>worse_treat</th>\n",
       "      <td>0.162162</td>\n",
       "    </tr>\n",
       "    <tr>\n",
       "      <th>equal_treat</th>\n",
       "      <td>0.167568</td>\n",
       "    </tr>\n",
       "  </tbody>\n",
       "</table>\n",
       "</div>"
      ],
      "text/plain": [
       "                Proportion\n",
       "Key                       \n",
       "better_notreat    0.662005\n",
       "worse_notreat     0.240093\n",
       "equal_notreat     0.097902\n",
       "better_treat      0.670270\n",
       "worse_treat       0.162162\n",
       "equal_treat       0.167568"
      ]
     },
     "execution_count": 51,
     "metadata": {},
     "output_type": "execute_result"
    }
   ],
   "source": [
    "percentage=pd.DataFrame({\n",
    "    'Key': ['better_notreat', 'worse_notreat','equal_notreat','better_treat','worse_treat','equal_treat'],\n",
    "    'Proportion': [\n",
    "        notreat_diff.loc[notreat_diff > 0].count()/m, \n",
    "        notreat_diff.loc[notreat_diff < 0].count()/m, \n",
    "        notreat_diff.loc[notreat_diff == 0].count()/m, \n",
    "        treat_diff.loc[treat_diff > 0].count()/n,\n",
    "        treat_diff.loc[treat_diff < 0].count()/n, \n",
    "        treat_diff.loc[treat_diff == 0].count()/n\n",
    "    ]\n",
    "}).set_index('Key')\n",
    "percentage"
   ]
  },
  {
   "cell_type": "code",
   "execution_count": 52,
   "metadata": {},
   "outputs": [
    {
     "data": {
      "image/png": "[encoded data removed]",
      "text/plain": [
       "<matplotlib.figure.Figure at 0x7f473a053198>"
      ]
     },
     "metadata": {},
     "output_type": "display_data"
    }
   ],
   "source": [
    "labels = ['Better', 'Worse', 'Equal']\n",
    "fig1, axes = plt.subplots(1,2 ,figsize=(10, 5))\n",
    "axes[0].set_title('Proportion 1978 after treatment')\n",
    "axes[0].pie(percentage.Proportion[[0,1,2]], labels=labels, autopct='%1.1f%%', shadow=True, startangle=90)\n",
    "axes[0].axis('equal') \n",
    "axes[1].set_title('Proportion 1978 after no treatment')\n",
    "axes[1].pie(percentage.Proportion[[3,4,5]], labels=labels, autopct='%1.1f%%', shadow=True, startangle=90)\n",
    "axes[1].axis('equal') \n",
    "plt.show()\n"
   ]
  },
  {
   "cell_type": "markdown",
   "metadata": {},
   "source": [
    "#### 2. A closer look at the data\n",
    "\n",
    "You're not naive, of course (and even if you are, you've learned certain things in ADA), so you aren't content with a superficial analysis such as the above.\n",
    "You're aware of the dangers of observational studies, so you take a closer look at the data before jumping to conclusions.\n",
    "\n",
    "For each feature in the dataset, compare its distribution in the treated group with its distribution in the control group, using plots and numbers.\n",
    "As above, you may use the techniques we discussed in class for summarizing and comparing the distributions.\n",
    "\n",
    "What do you observe?\n",
    "Describe what your observations mean for the conclusions drawn by the naive \"researcher\" from his superficial analysis.\n"
   ]
  },
  {
   "cell_type": "markdown",
   "metadata": {},
   "source": [
    "### Numerical variables analysis"
   ]
  },
  {
   "cell_type": "markdown",
   "metadata": {},
   "source": [
    "We decide to do different analysis for tha categorical and the numerical attributes, starting from the former. As before we use histograms to try to identify the distributions of the variables. Plots on the left refer to the group attending the job programm, while plots on the rigth represents characteristics of people not attending it."
   ]
  },
  {
   "cell_type": "code",
   "execution_count": 72,
   "metadata": {},
   "outputs": [
    {
     "data": {
      "image/png": "[encoded data removed]",
      "text/plain": [
       "<matplotlib.figure.Figure at 0x7f4738e1fb70>"
      ]
     },
     "metadata": {},
     "output_type": "display_data"
    },
    {
     "data": {
      "image/png": "[encoded data removed]",
      "text/plain": [
       "<matplotlib.figure.Figure at 0x7f4738dcd358>"
      ]
     },
     "metadata": {},
     "output_type": "display_data"
    },
    {
     "data": {
      "image/png": "[encoded data removed]",
      "text/plain": [
       "<matplotlib.figure.Figure at 0x7f47396eff60>"
      ]
     },
     "metadata": {},
     "output_type": "display_data"
    },
    {
     "data": {
      "image/png": "[encoded data removed]",
      "text/plain": [
       "<matplotlib.figure.Figure at 0x7f473b3e60f0>"
      ]
     },
     "metadata": {},
     "output_type": "display_data"
    }
   ],
   "source": [
    "def plot_analysis(treat,notreat,attribute):\n",
    "    treat_attribute = treat[[attribute]]\n",
    "    notreat_attribute = notreat[[attribute]]\n",
    "    fig, axes = plt.subplots(1, 2, figsize=(13, 5));\n",
    "    treat_attribute.plot.hist(ax=axes[0],normed=1)\n",
    "    notreat_attribute.plot.hist(ax=axes[1],normed=1)\n",
    "    \n",
    "for feature in ['age', 're74', 're75', 'educ']:\n",
    "    plot_analysis(treat,notreat, feature)"
   ]
  },
  {
   "cell_type": "markdown",
   "metadata": {},
   "source": [
    "More people under 30 more with re74 and re75 under 5000...looks like esponential\n",
    "educ has different minimum and maximum...looks like normal check using quantiles\n",
    "Looking at the age plots, we can notice that in the treat group there are an higher density of pe"
   ]
  },
  {
   "cell_type": "code",
   "execution_count": 236,
   "metadata": {},
   "outputs": [
    {
     "data": {
      "image/png": "[encoded data removed]",
      "text/plain": [
       "<matplotlib.figure.Figure at 0x7f473aaae860>"
      ]
     },
     "metadata": {},
     "output_type": "display_data"
    }
   ],
   "source": [
    "fig, axes = plt.subplots(2, 2, figsize=(14, 12));\n",
    "\n",
    "for i, feature in enumerate(['age', 'educ', 're74', 're75']):\n",
    "    sns.boxplot(x=df.treat,y=df[feature], ax=axes[int(i > 1),i%2])"
   ]
  },
  {
   "cell_type": "markdown",
   "metadata": {},
   "source": [
    "age similar mean different quartiles all under fifty and more dense between 20-30\n",
    "educ similar quartiles but it seems like they just remove outliers\n",
    "re74re75 mean in treat group very close to 0 while other group still low but higher (3rd treat similar mean no treat)\n",
    "re75 a 3rd e 90 a little higher but still lower than other group....present many outliers"
   ]
  },
  {
   "cell_type": "code",
   "execution_count": 55,
   "metadata": {},
   "outputs": [
    {
     "data": {
      "text/html": [
       "<div>\n",
       "<style>\n",
       "    .dataframe thead tr:only-child th {\n",
       "        text-align: right;\n",
       "    }\n",
       "\n",
       "    .dataframe thead th {\n",
       "        text-align: left;\n",
       "    }\n",
       "\n",
       "    .dataframe tbody tr th {\n",
       "        vertical-align: top;\n",
       "    }\n",
       "</style>\n",
       "<table border=\"1\" class=\"dataframe\">\n",
       "  <thead>\n",
       "    <tr style=\"text-align: right;\">\n",
       "      <th></th>\n",
       "      <th>age</th>\n",
       "      <th>educ</th>\n",
       "      <th>re74</th>\n",
       "      <th>re75</th>\n",
       "      <th>re78</th>\n",
       "    </tr>\n",
       "  </thead>\n",
       "  <tbody>\n",
       "    <tr>\n",
       "      <th>count</th>\n",
       "      <td>185.000000</td>\n",
       "      <td>185.000000</td>\n",
       "      <td>185.000000</td>\n",
       "      <td>185.000000</td>\n",
       "      <td>185.000000</td>\n",
       "    </tr>\n",
       "    <tr>\n",
       "      <th>mean</th>\n",
       "      <td>25.816216</td>\n",
       "      <td>10.345946</td>\n",
       "      <td>2095.573689</td>\n",
       "      <td>1532.055314</td>\n",
       "      <td>6349.143530</td>\n",
       "    </tr>\n",
       "    <tr>\n",
       "      <th>std</th>\n",
       "      <td>7.155019</td>\n",
       "      <td>2.010650</td>\n",
       "      <td>4886.620353</td>\n",
       "      <td>3219.250870</td>\n",
       "      <td>7867.402218</td>\n",
       "    </tr>\n",
       "    <tr>\n",
       "      <th>min</th>\n",
       "      <td>17.000000</td>\n",
       "      <td>4.000000</td>\n",
       "      <td>0.000000</td>\n",
       "      <td>0.000000</td>\n",
       "      <td>0.000000</td>\n",
       "    </tr>\n",
       "    <tr>\n",
       "      <th>25%</th>\n",
       "      <td>20.000000</td>\n",
       "      <td>9.000000</td>\n",
       "      <td>0.000000</td>\n",
       "      <td>0.000000</td>\n",
       "      <td>485.229800</td>\n",
       "    </tr>\n",
       "    <tr>\n",
       "      <th>50%</th>\n",
       "      <td>25.000000</td>\n",
       "      <td>11.000000</td>\n",
       "      <td>0.000000</td>\n",
       "      <td>0.000000</td>\n",
       "      <td>4232.309000</td>\n",
       "    </tr>\n",
       "    <tr>\n",
       "      <th>75%</th>\n",
       "      <td>29.000000</td>\n",
       "      <td>12.000000</td>\n",
       "      <td>1291.468000</td>\n",
       "      <td>1817.284000</td>\n",
       "      <td>9642.999000</td>\n",
       "    </tr>\n",
       "    <tr>\n",
       "      <th>max</th>\n",
       "      <td>48.000000</td>\n",
       "      <td>16.000000</td>\n",
       "      <td>35040.070000</td>\n",
       "      <td>25142.240000</td>\n",
       "      <td>60307.930000</td>\n",
       "    </tr>\n",
       "  </tbody>\n",
       "</table>\n",
       "</div>"
      ],
      "text/plain": [
       "              age        educ          re74          re75          re78\n",
       "count  185.000000  185.000000    185.000000    185.000000    185.000000\n",
       "mean    25.816216   10.345946   2095.573689   1532.055314   6349.143530\n",
       "std      7.155019    2.010650   4886.620353   3219.250870   7867.402218\n",
       "min     17.000000    4.000000      0.000000      0.000000      0.000000\n",
       "25%     20.000000    9.000000      0.000000      0.000000    485.229800\n",
       "50%     25.000000   11.000000      0.000000      0.000000   4232.309000\n",
       "75%     29.000000   12.000000   1291.468000   1817.284000   9642.999000\n",
       "max     48.000000   16.000000  35040.070000  25142.240000  60307.930000"
      ]
     },
     "execution_count": 55,
     "metadata": {},
     "output_type": "execute_result"
    }
   ],
   "source": [
    "treat.describe()"
   ]
  },
  {
   "cell_type": "code",
   "execution_count": 56,
   "metadata": {},
   "outputs": [
    {
     "data": {
      "text/html": [
       "<div>\n",
       "<style>\n",
       "    .dataframe thead tr:only-child th {\n",
       "        text-align: right;\n",
       "    }\n",
       "\n",
       "    .dataframe thead th {\n",
       "        text-align: left;\n",
       "    }\n",
       "\n",
       "    .dataframe tbody tr th {\n",
       "        vertical-align: top;\n",
       "    }\n",
       "</style>\n",
       "<table border=\"1\" class=\"dataframe\">\n",
       "  <thead>\n",
       "    <tr style=\"text-align: right;\">\n",
       "      <th></th>\n",
       "      <th>age</th>\n",
       "      <th>educ</th>\n",
       "      <th>re74</th>\n",
       "      <th>re75</th>\n",
       "      <th>re78</th>\n",
       "    </tr>\n",
       "  </thead>\n",
       "  <tbody>\n",
       "    <tr>\n",
       "      <th>count</th>\n",
       "      <td>429.000000</td>\n",
       "      <td>429.000000</td>\n",
       "      <td>429.000000</td>\n",
       "      <td>429.000000</td>\n",
       "      <td>429.000000</td>\n",
       "    </tr>\n",
       "    <tr>\n",
       "      <th>mean</th>\n",
       "      <td>28.030303</td>\n",
       "      <td>10.235431</td>\n",
       "      <td>5619.236506</td>\n",
       "      <td>2466.484443</td>\n",
       "      <td>6984.169742</td>\n",
       "    </tr>\n",
       "    <tr>\n",
       "      <th>std</th>\n",
       "      <td>10.786653</td>\n",
       "      <td>2.855238</td>\n",
       "      <td>6788.750796</td>\n",
       "      <td>3291.996183</td>\n",
       "      <td>7294.161791</td>\n",
       "    </tr>\n",
       "    <tr>\n",
       "      <th>min</th>\n",
       "      <td>16.000000</td>\n",
       "      <td>0.000000</td>\n",
       "      <td>0.000000</td>\n",
       "      <td>0.000000</td>\n",
       "      <td>0.000000</td>\n",
       "    </tr>\n",
       "    <tr>\n",
       "      <th>25%</th>\n",
       "      <td>19.000000</td>\n",
       "      <td>9.000000</td>\n",
       "      <td>0.000000</td>\n",
       "      <td>0.000000</td>\n",
       "      <td>220.181300</td>\n",
       "    </tr>\n",
       "    <tr>\n",
       "      <th>50%</th>\n",
       "      <td>25.000000</td>\n",
       "      <td>11.000000</td>\n",
       "      <td>2547.047000</td>\n",
       "      <td>1086.726000</td>\n",
       "      <td>4975.505000</td>\n",
       "    </tr>\n",
       "    <tr>\n",
       "      <th>75%</th>\n",
       "      <td>35.000000</td>\n",
       "      <td>12.000000</td>\n",
       "      <td>9277.128000</td>\n",
       "      <td>3881.419000</td>\n",
       "      <td>11688.820000</td>\n",
       "    </tr>\n",
       "    <tr>\n",
       "      <th>max</th>\n",
       "      <td>55.000000</td>\n",
       "      <td>18.000000</td>\n",
       "      <td>25862.320000</td>\n",
       "      <td>18347.230000</td>\n",
       "      <td>25564.670000</td>\n",
       "    </tr>\n",
       "  </tbody>\n",
       "</table>\n",
       "</div>"
      ],
      "text/plain": [
       "              age        educ          re74          re75          re78\n",
       "count  429.000000  429.000000    429.000000    429.000000    429.000000\n",
       "mean    28.030303   10.235431   5619.236506   2466.484443   6984.169742\n",
       "std     10.786653    2.855238   6788.750796   3291.996183   7294.161791\n",
       "min     16.000000    0.000000      0.000000      0.000000      0.000000\n",
       "25%     19.000000    9.000000      0.000000      0.000000    220.181300\n",
       "50%     25.000000   11.000000   2547.047000   1086.726000   4975.505000\n",
       "75%     35.000000   12.000000   9277.128000   3881.419000  11688.820000\n",
       "max     55.000000   18.000000  25862.320000  18347.230000  25564.670000"
      ]
     },
     "execution_count": 56,
     "metadata": {},
     "output_type": "execute_result"
    }
   ],
   "source": [
    "notreat.describe() "
   ]
  },
  {
   "cell_type": "markdown",
   "metadata": {},
   "source": [
    "same results of box plts selection a range on age and educ"
   ]
  },
  {
   "cell_type": "markdown",
   "metadata": {},
   "source": [
    "### Categorical variables analysis"
   ]
  },
  {
   "cell_type": "code",
   "execution_count": 71,
   "metadata": {},
   "outputs": [
    {
     "data": {
      "image/png": "[encoded data removed]",
      "text/plain": [
       "<matplotlib.figure.Figure at 0x7f4738ffb2b0>"
      ]
     },
     "metadata": {},
     "output_type": "display_data"
    }
   ],
   "source": [
    "#aggiungi white\n",
    "#non rende bene perchè non tiene conto del numero totale in treat and no treat-->piechart better\n",
    "fig, axes = plt.subplots(2, 2, figsize=(10, 8));\n",
    "\n",
    "for i, feature in enumerate(['black', 'hispan', 'married', 'nodegree']):\n",
    "    sns.countplot(hue=feature, x=\"treat\", data=df, palette=\"Greens_d\", ax=axes[int(i>1), i%2])"
   ]
  },
  {
   "cell_type": "code",
   "execution_count": 498,
   "metadata": {},
   "outputs": [
    {
     "data": {
      "text/html": [
       "<div>\n",
       "<style>\n",
       "    .dataframe thead tr:only-child th {\n",
       "        text-align: right;\n",
       "    }\n",
       "\n",
       "    .dataframe thead th {\n",
       "        text-align: left;\n",
       "    }\n",
       "\n",
       "    .dataframe tbody tr th {\n",
       "        vertical-align: top;\n",
       "    }\n",
       "</style>\n",
       "<table border=\"1\" class=\"dataframe\">\n",
       "  <thead>\n",
       "    <tr>\n",
       "      <th></th>\n",
       "      <th colspan=\"2\" halign=\"left\">Totals</th>\n",
       "      <th colspan=\"2\" halign=\"left\">Proportion</th>\n",
       "    </tr>\n",
       "    <tr>\n",
       "      <th>treat</th>\n",
       "      <th>0</th>\n",
       "      <th>1</th>\n",
       "      <th>0</th>\n",
       "      <th>1</th>\n",
       "    </tr>\n",
       "  </thead>\n",
       "  <tbody>\n",
       "    <tr>\n",
       "      <th>hispan</th>\n",
       "      <td>61.0</td>\n",
       "      <td>11.0</td>\n",
       "      <td>0.142191</td>\n",
       "      <td>0.059459</td>\n",
       "    </tr>\n",
       "    <tr>\n",
       "      <th>black</th>\n",
       "      <td>87.0</td>\n",
       "      <td>156.0</td>\n",
       "      <td>0.202797</td>\n",
       "      <td>0.843243</td>\n",
       "    </tr>\n",
       "    <tr>\n",
       "      <th>married</th>\n",
       "      <td>220.0</td>\n",
       "      <td>35.0</td>\n",
       "      <td>0.512821</td>\n",
       "      <td>0.189189</td>\n",
       "    </tr>\n",
       "    <tr>\n",
       "      <th>nodegree</th>\n",
       "      <td>256.0</td>\n",
       "      <td>131.0</td>\n",
       "      <td>0.596737</td>\n",
       "      <td>0.708108</td>\n",
       "    </tr>\n",
       "  </tbody>\n",
       "</table>\n",
       "</div>"
      ],
      "text/plain": [
       "         Totals        Proportion          \n",
       "treat         0      1          0         1\n",
       "hispan     61.0   11.0   0.142191  0.059459\n",
       "black      87.0  156.0   0.202797  0.843243\n",
       "married   220.0   35.0   0.512821  0.189189\n",
       "nodegree  256.0  131.0   0.596737  0.708108"
      ]
     },
     "execution_count": 498,
     "metadata": {},
     "output_type": "execute_result"
    }
   ],
   "source": [
    "features = ['hispan', 'black', 'married', 'nodegree']\n",
    "\n",
    "t1 = df.groupby(['treat'])[features].sum()\n",
    "t1.index.name = 'treat'\n",
    "t2 = df.groupby(['treat'])[features].count()\n",
    "t2.index.name = 'treat'\n",
    "\n",
    "t3 = t1.div(t2)\n",
    "\n",
    "percent = pd.concat([t1, t3], axis=0, keys=['Totals', 'Proportion']).T\n",
    "\n",
    "percent"
   ]
  },
  {
   "cell_type": "code",
   "execution_count": 493,
   "metadata": {},
   "outputs": [
    {
     "data": {
      "text/html": [
       "<div>\n",
       "<style>\n",
       "    .dataframe thead tr:only-child th {\n",
       "        text-align: right;\n",
       "    }\n",
       "\n",
       "    .dataframe thead th {\n",
       "        text-align: left;\n",
       "    }\n",
       "\n",
       "    .dataframe tbody tr th {\n",
       "        vertical-align: top;\n",
       "    }\n",
       "</style>\n",
       "<table border=\"1\" class=\"dataframe\">\n",
       "  <thead>\n",
       "    <tr>\n",
       "      <th></th>\n",
       "      <th></th>\n",
       "      <th colspan=\"2\" halign=\"left\">Total treat</th>\n",
       "      <th colspan=\"2\" halign=\"left\">Proportion Total</th>\n",
       "      <th colspan=\"2\" halign=\"left\">Proportion Race</th>\n",
       "    </tr>\n",
       "    <tr>\n",
       "      <th></th>\n",
       "      <th></th>\n",
       "      <th>0</th>\n",
       "      <th>1</th>\n",
       "      <th>0</th>\n",
       "      <th>1</th>\n",
       "      <th>0</th>\n",
       "      <th>1</th>\n",
       "    </tr>\n",
       "  </thead>\n",
       "  <tbody>\n",
       "    <tr>\n",
       "      <th rowspan=\"2\" valign=\"top\">black</th>\n",
       "      <th>married</th>\n",
       "      <td>25.0</td>\n",
       "      <td>29.0</td>\n",
       "      <td>0.058275</td>\n",
       "      <td>0.156757</td>\n",
       "      <td>0.287356</td>\n",
       "      <td>0.185897</td>\n",
       "    </tr>\n",
       "    <tr>\n",
       "      <th>nodegree</th>\n",
       "      <td>56.0</td>\n",
       "      <td>113.0</td>\n",
       "      <td>0.130536</td>\n",
       "      <td>0.610811</td>\n",
       "      <td>0.643678</td>\n",
       "      <td>0.724359</td>\n",
       "    </tr>\n",
       "    <tr>\n",
       "      <th rowspan=\"2\" valign=\"top\">hispanic</th>\n",
       "      <th>married</th>\n",
       "      <td>29.0</td>\n",
       "      <td>3.0</td>\n",
       "      <td>0.067599</td>\n",
       "      <td>0.016216</td>\n",
       "      <td>0.475410</td>\n",
       "      <td>0.272727</td>\n",
       "    </tr>\n",
       "    <tr>\n",
       "      <th>nodegree</th>\n",
       "      <td>46.0</td>\n",
       "      <td>9.0</td>\n",
       "      <td>0.107226</td>\n",
       "      <td>0.048649</td>\n",
       "      <td>0.754098</td>\n",
       "      <td>0.818182</td>\n",
       "    </tr>\n",
       "  </tbody>\n",
       "</table>\n",
       "</div>"
      ],
      "text/plain": [
       "                  Total treat        Proportion Total            \\\n",
       "                            0      1                0         1   \n",
       "black    married         25.0   29.0         0.058275  0.156757   \n",
       "         nodegree        56.0  113.0         0.130536  0.610811   \n",
       "hispanic married         29.0    3.0         0.067599  0.016216   \n",
       "         nodegree        46.0    9.0         0.107226  0.048649   \n",
       "\n",
       "                  Proportion Race            \n",
       "                                0         1  \n",
       "black    married         0.287356  0.185897  \n",
       "         nodegree        0.643678  0.724359  \n",
       "hispanic married         0.475410  0.272727  \n",
       "         nodegree        0.754098  0.818182  "
      ]
     },
     "execution_count": 493,
     "metadata": {},
     "output_type": "execute_result"
    }
   ],
   "source": [
    "features = ['married', 'nodegree']\n",
    "keys_ = ['black', 'hispanic']\n",
    "\n",
    "sums = pd.concat([\n",
    "    df[df.black == 1].groupby(['treat'])[features].sum().T,\n",
    "    df[df.hispan == 1].groupby(['treat'])[features].sum().T,\n",
    "], keys=keys_)\n",
    "\n",
    "counts_race = pd.concat([\n",
    "    df[df.black == 1].groupby(['treat'])[features].count().T,\n",
    "    df[df.hispan == 1].groupby(['treat'])[features].count().T,\n",
    "], keys=keys_)\n",
    "\n",
    "counts = pd.concat([\n",
    "    df.groupby(['treat'])[features].count().T,\n",
    "    df.groupby(['treat'])[features].count().T,\n",
    "], keys=keys_)\n",
    "\n",
    "percent_per_race = pd.concat([\n",
    "    sums,\n",
    "    sums.div(counts),\n",
    "    sums.div(counts_race)\n",
    "], axis=1, keys=['Total treat', 'Proportion Total', 'Proportion Race'])\n",
    "\n",
    "percent_per_race"
   ]
  },
  {
   "cell_type": "markdown",
   "metadata": {},
   "source": [
    "most part black no degree or black no married (no married and no degree even in no treat population)\n",
    "in treat there are more black than hispan and white, more no degree than degree, than in no treat population\n",
    "after piecharts to better visualize results"
   ]
  },
  {
   "cell_type": "code",
   "execution_count": 496,
   "metadata": {},
   "outputs": [],
   "source": [
    "def pie_chart(size,ax,title,group):\n",
    "    sizes = [size, 1-size]\n",
    "    labels = [title, 'no '+title]\n",
    "    ax.set_title('Percentage of '+title+' people in '+group+' group')\n",
    "    ax.pie(sizes, labels=labels, autopct='%1.1f%%', shadow=True, startangle=90)\n",
    "    ax.axis('equal')  "
   ]
  },
  {
   "cell_type": "code",
   "execution_count": 497,
   "metadata": {},
   "outputs": [
    {
     "data": {
      "image/png": "[encoded data removed]",
      "text/plain": [
       "<matplotlib.figure.Figure at 0x7f4738c2ff60>"
      ]
     },
     "metadata": {},
     "output_type": "display_data"
    }
   ],
   "source": [
    "fig1, axes = plt.subplots(percent.shape[0], 2, figsize=(10, 20))\n",
    "for (i,(name, row)) in enumerate(percent.iterrows()):\n",
    "    for j in row.index.get_level_values('treat').categories:\n",
    "        pie_chart(\n",
    "            row['Proportion'][j], \n",
    "            axes[i, j], \n",
    "            name, \n",
    "            'treat' if j == 1 else 'notreat'\n",
    "        )"
   ]
  },
  {
   "cell_type": "code",
   "execution_count": 563,
   "metadata": {},
   "outputs": [
    {
     "data": {
      "image/png": "[encoded data removed]",
      "text/plain": [
       "<matplotlib.figure.Figure at 0x7f4738c41400>"
      ]
     },
     "metadata": {},
     "output_type": "display_data"
    }
   ],
   "source": [
    "races = ['black', 'hispan']\n",
    "race_percentages = df.groupby('treat')[races].sum().div(\n",
    "    df.groupby('treat')[races].count()\n",
    ")\n",
    "race_percentages.index.name = 'treat'\n",
    "\n",
    "fig1, axes = plt.subplots(1,2 ,figsize=(10, 5))\n",
    "\n",
    "for (i, (name, row)) in enumerate(race_percentages.iterrows()):\n",
    "    values = list(row)\n",
    "    values.append(1 - sum(list(row)))\n",
    "    axex[i].set_title('Percentage of race in ')\n",
    "    axes[i].pie(values, labels=list(row.index)+['other'], autopct='%1.1f%%')\n",
    "\n",
    "#labels = ['white','black','hispan']\n",
    "#sizes = [0.655, 0.2027, 0.1421]\n",
    "#ax = axes[0]\n",
    "#ax.set_title('Percentage of race in no treat group')\n",
    "#ax.pie(sizes, labels=labels, autopct='%1.1f%%', shadow=True, startangle=90)\n",
    "#ax.axis('equal')  \n",
    "#sizes = [0.0972, 0.8432, 0.0564]\n",
    "#ax = axes[1]\n",
    "#ax.set_title('Percentage of race in treat group')\n",
    "#ax.pie(sizes, labels=labels, autopct='%1.1f%%', shadow=True, startangle=90)\n",
    "#ax.axis('equal')  "
   ]
  },
  {
   "cell_type": "markdown",
   "metadata": {},
   "source": [
    "#### 3. A propensity score model\n",
    "\n",
    "Use logistic regression to estimate propensity scores for all points in the dataset.\n",
    "You may use `sklearn` to fit the logistic regression model and apply it to each data point to obtain propensity scores:\n",
    "\n",
    "```python\n",
    "from sklearn import linear_model\n",
    "logistic = linear_model.LogisticRegression()\n",
    "```\n",
    "\n",
    "Recall that the propensity score of a data point represents its probability of receiving the treatment, based on its pre-treatment features (in this case, age, education, pre-treatment income, etc.).\n",
    "To brush up on propensity scores, you may read chapter 3.3 of the above-cited book by Rosenbaum or [this article](https://drive.google.com/file/d/0B4jctQY-uqhzTlpBaTBJRTJFVFE/view).\n",
    "\n",
    "Note: you do not need a train/test split here. Train and apply the model on the entire dataset. If you're wondering why this is the right thing to do in this situation, recall that the propensity score model is not used in order to make predictions about unseen data. Its sole purpose is to balance the dataset across treatment groups.\n",
    "(See p. 74 of Rosenbaum's book for an explanation why slight overfitting is even good for propensity scores.\n",
    "If you want even more information, read [this article](https://drive.google.com/file/d/0B4jctQY-uqhzTlpBaTBJRTJFVFE/view).)\n"
   ]
  },
  {
   "cell_type": "code",
   "execution_count": 499,
   "metadata": {},
   "outputs": [
    {
     "data": {
      "text/plain": [
       "LogisticRegression(C=1.0, class_weight=None, dual=False, fit_intercept=True,\n",
       "          intercept_scaling=1, max_iter=100, multi_class='ovr', n_jobs=1,\n",
       "          penalty='l2', random_state=None, solver='liblinear', tol=0.0001,\n",
       "          verbose=0, warm_start=False)"
      ]
     },
     "execution_count": 499,
     "metadata": {},
     "output_type": "execute_result"
    }
   ],
   "source": [
    "#scrivi che è inutile aggiungere white perchè è già identificato da black=0 hispan=0\n",
    "X = df.drop('treat', axis=1)\n",
    "y = df.treat\n",
    "logistic = LogisticRegression() # create the model\n",
    "logistic.fit(X, y)  # train it"
   ]
  },
  {
   "cell_type": "code",
   "execution_count": 500,
   "metadata": {},
   "outputs": [
    {
     "data": {
      "text/plain": [
       "array([[ 0.54192649,  0.45807351],\n",
       "       [ 0.84801994,  0.15198006],\n",
       "       [ 0.24903448,  0.75096552],\n",
       "       ..., \n",
       "       [ 0.89944167,  0.10055833],\n",
       "       [ 0.44954653,  0.55045347],\n",
       "       [ 0.79880343,  0.20119657]])"
      ]
     },
     "execution_count": 500,
     "metadata": {},
     "output_type": "execute_result"
    }
   ],
   "source": [
    "pred = logistic.predict_proba(X)\n",
    "pred"
   ]
  },
  {
   "cell_type": "code",
   "execution_count": 501,
   "metadata": {},
   "outputs": [
    {
     "data": {
      "text/html": [
       "<div>\n",
       "<style>\n",
       "    .dataframe thead tr:only-child th {\n",
       "        text-align: right;\n",
       "    }\n",
       "\n",
       "    .dataframe thead th {\n",
       "        text-align: left;\n",
       "    }\n",
       "\n",
       "    .dataframe tbody tr th {\n",
       "        vertical-align: top;\n",
       "    }\n",
       "</style>\n",
       "<table border=\"1\" class=\"dataframe\">\n",
       "  <thead>\n",
       "    <tr style=\"text-align: right;\">\n",
       "      <th></th>\n",
       "      <th>treat</th>\n",
       "      <th>age</th>\n",
       "      <th>educ</th>\n",
       "      <th>black</th>\n",
       "      <th>hispan</th>\n",
       "      <th>married</th>\n",
       "      <th>nodegree</th>\n",
       "      <th>re74</th>\n",
       "      <th>re75</th>\n",
       "      <th>re78</th>\n",
       "      <th>prob_treat</th>\n",
       "      <th>prob_notreat</th>\n",
       "    </tr>\n",
       "    <tr>\n",
       "      <th>id</th>\n",
       "      <th></th>\n",
       "      <th></th>\n",
       "      <th></th>\n",
       "      <th></th>\n",
       "      <th></th>\n",
       "      <th></th>\n",
       "      <th></th>\n",
       "      <th></th>\n",
       "      <th></th>\n",
       "      <th></th>\n",
       "      <th></th>\n",
       "      <th></th>\n",
       "    </tr>\n",
       "  </thead>\n",
       "  <tbody>\n",
       "    <tr>\n",
       "      <th>NSW1</th>\n",
       "      <td>1</td>\n",
       "      <td>37</td>\n",
       "      <td>11</td>\n",
       "      <td>1</td>\n",
       "      <td>0</td>\n",
       "      <td>1</td>\n",
       "      <td>1</td>\n",
       "      <td>0.0</td>\n",
       "      <td>0.0</td>\n",
       "      <td>9930.0460</td>\n",
       "      <td>0.458074</td>\n",
       "      <td>0.541926</td>\n",
       "    </tr>\n",
       "    <tr>\n",
       "      <th>NSW2</th>\n",
       "      <td>1</td>\n",
       "      <td>22</td>\n",
       "      <td>9</td>\n",
       "      <td>0</td>\n",
       "      <td>1</td>\n",
       "      <td>0</td>\n",
       "      <td>1</td>\n",
       "      <td>0.0</td>\n",
       "      <td>0.0</td>\n",
       "      <td>3595.8940</td>\n",
       "      <td>0.151980</td>\n",
       "      <td>0.848020</td>\n",
       "    </tr>\n",
       "    <tr>\n",
       "      <th>NSW3</th>\n",
       "      <td>1</td>\n",
       "      <td>30</td>\n",
       "      <td>12</td>\n",
       "      <td>1</td>\n",
       "      <td>0</td>\n",
       "      <td>0</td>\n",
       "      <td>0</td>\n",
       "      <td>0.0</td>\n",
       "      <td>0.0</td>\n",
       "      <td>24909.4500</td>\n",
       "      <td>0.750966</td>\n",
       "      <td>0.249034</td>\n",
       "    </tr>\n",
       "    <tr>\n",
       "      <th>NSW4</th>\n",
       "      <td>1</td>\n",
       "      <td>27</td>\n",
       "      <td>11</td>\n",
       "      <td>1</td>\n",
       "      <td>0</td>\n",
       "      <td>0</td>\n",
       "      <td>1</td>\n",
       "      <td>0.0</td>\n",
       "      <td>0.0</td>\n",
       "      <td>7506.1460</td>\n",
       "      <td>0.674020</td>\n",
       "      <td>0.325980</td>\n",
       "    </tr>\n",
       "    <tr>\n",
       "      <th>NSW5</th>\n",
       "      <td>1</td>\n",
       "      <td>33</td>\n",
       "      <td>8</td>\n",
       "      <td>1</td>\n",
       "      <td>0</td>\n",
       "      <td>0</td>\n",
       "      <td>1</td>\n",
       "      <td>0.0</td>\n",
       "      <td>0.0</td>\n",
       "      <td>289.7899</td>\n",
       "      <td>0.670590</td>\n",
       "      <td>0.329410</td>\n",
       "    </tr>\n",
       "  </tbody>\n",
       "</table>\n",
       "</div>"
      ],
      "text/plain": [
       "     treat  age  educ black hispan married nodegree  re74  re75        re78  \\\n",
       "id                                                                            \n",
       "NSW1     1   37    11     1      0       1        1   0.0   0.0   9930.0460   \n",
       "NSW2     1   22     9     0      1       0        1   0.0   0.0   3595.8940   \n",
       "NSW3     1   30    12     1      0       0        0   0.0   0.0  24909.4500   \n",
       "NSW4     1   27    11     1      0       0        1   0.0   0.0   7506.1460   \n",
       "NSW5     1   33     8     1      0       0        1   0.0   0.0    289.7899   \n",
       "\n",
       "      prob_treat  prob_notreat  \n",
       "id                              \n",
       "NSW1    0.458074      0.541926  \n",
       "NSW2    0.151980      0.848020  \n",
       "NSW3    0.750966      0.249034  \n",
       "NSW4    0.674020      0.325980  \n",
       "NSW5    0.670590      0.329410  "
      ]
     },
     "execution_count": 501,
     "metadata": {},
     "output_type": "execute_result"
    }
   ],
   "source": [
    "df['prob_treat']=pred[:,1]\n",
    "df['prob_notreat']=pred[:,0]\n",
    "df.head()"
   ]
  },
  {
   "cell_type": "markdown",
   "metadata": {},
   "source": [
    "#### 4. Balancing the dataset via matching\n",
    "\n",
    "Use the propensity scores to match each data point from the treated group with exactly one data point from the control group, while ensuring that each data point from the control group is matched with at most one data point from the treated group.\n",
    "(Hint: you may explore the `networkx` package in Python for predefined matching functions.)\n",
    "\n",
    "Your matching should maximize the similarity between matched subjects, as captured by their propensity scores.\n",
    "In other words, the sum (over all matched pairs) of absolute propensity-score differences between the two matched subjects should be minimized.\n",
    "\n",
    "After matching, you have as many treated as you have control subjects.\n",
    "Compare the outcomes (`re78`) between the two groups (treated and control).\n",
    "\n",
    "Also, compare again the feature-value distributions between the two groups, as you've done in part 2 above, but now only for the matched subjects.\n",
    "What do you observe?\n",
    "Are you closer to being able to draw valid conclusions now than you were before?\n",
    "\n"
   ]
  },
  {
   "cell_type": "code",
   "execution_count": null,
   "metadata": {
    "collapsed": true
   },
   "outputs": [],
   "source": [
    "B = nx.Graph()\n",
    "# Add nodes with the node attribute \"bipartite\"\n",
    "B.add_nodes_from(df.loc[df.treat==1].prob_treat, bipartite=0)\n",
    "B.add_nodes_from(df.loc[df.treat==0].prob_treat, bipartite=1)\n",
    "X,Y = bipartite.sets(B)\n"
   ]
  },
  {
   "cell_type": "markdown",
   "metadata": {},
   "source": [
    "#### 5. Balancing the groups further\n",
    "\n",
    "Based on your comparison of feature-value distributions from part 4, are you fully satisfied with your matching?\n",
    "Would you say your dataset is sufficiently balanced?\n",
    "If not, in what ways could the \"balanced\" dataset you have obtained still not allow you to draw valid conclusions?\n",
    "\n",
    "Improve your matching by explicitly making sure that you match only subjects that have the same value for the problematic feature.\n",
    "Argue with numbers and plots that the two groups (treated and control) are now better balanced than after part 4.\n"
   ]
  },
  {
   "cell_type": "code",
   "execution_count": null,
   "metadata": {
    "collapsed": true
   },
   "outputs": [],
   "source": []
  },
  {
   "cell_type": "markdown",
   "metadata": {},
   "source": [
    "#### 6. A less naive analysis\n",
    "\n",
    "Compare the outcomes (`re78`) between treated and control subjects, as you've done in part 1, but now only for the matched dataset you've obtained from part 5.\n",
    "What do you conclude about the effectiveness of the job training program?\n"
   ]
  },
  {
   "cell_type": "code",
   "execution_count": null,
   "metadata": {
    "collapsed": true
   },
   "outputs": [],
   "source": []
  },
  {
   "cell_type": "markdown",
   "metadata": {},
   "source": [
    "## Question 2: Applied ML\n",
    "\n",
    "We are going to build a classifier of news to directly assign them to 20 news categories. Note that the pipeline that you will build in this exercise could be of great help during your project if you plan to work with text!\n",
    "\n",
    "1. Load the 20newsgroup dataset. It is, again, a classic dataset that can directly be loaded using sklearn ([link](http://scikit-learn.org/stable/datasets/twenty_newsgroups.html)).  \n",
    "[TF-IDF](https://en.wikipedia.org/wiki/Tf%E2%80%93idf), short for term frequencyâ€“inverse document frequency, is of great help when if comes to compute textual features. Indeed, it gives more importance to terms that are more specific to the considered articles (TF) but reduces the importance of terms that are very frequent in the entire corpus (IDF). Compute TF-IDF features for every article using [TfidfVectorizer](http://scikit-learn.org/stable/modules/generated/sklearn.feature_extraction.text.TfidfVectorizer.html). Then, split your dataset into a training, a testing and a validation set (10% for validation and 10% for testing). Each observation should be paired with its corresponding label (the article category).\n",
    "\n",
    "\n",
    "2. Train a random forest on your training set. Try to fine-tune the parameters of your predictor on your validation set using a simple grid search on the number of estimator \"n_estimators\" and the max depth of the trees \"max_depth\". Then, display a confusion matrix of your classification pipeline. Lastly, once you assessed your model, inspect the `feature_importances_` attribute of your random forest and discuss the obtained results.\n",
    "\n"
   ]
  },
  {
   "cell_type": "code",
   "execution_count": null,
   "metadata": {
    "collapsed": true
   },
   "outputs": [],
   "source": []
  }
 ],
 "metadata": {
  "kernelspec": {
   "display_name": "Python [default]",
   "language": "python",
   "name": "python3"
  },
  "language_info": {
   "codemirror_mode": {
    "name": "ipython",
    "version": 3
   },
   "file_extension": ".py",
   "mimetype": "text/x-python",
   "name": "python",
   "nbconvert_exporter": "python",
   "pygments_lexer": "ipython3",
   "version": "3.6.1"
  }
 },
 "nbformat": 4,
 "nbformat_minor": 2
}
