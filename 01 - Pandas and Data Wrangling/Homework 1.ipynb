{
 "cells": [
  {
   "cell_type": "markdown",
   "metadata": {},
   "source": [
    "# Table of Contents\n",
    " <p><div class=\"lev1\"><a href=\"#Task-1.-Compiling-Ebola-Data\"><span class=\"toc-item-num\">Task 1.&nbsp;&nbsp;</span>Compiling Ebola Data</a></div>\n",
    " <div class=\"lev1\"><a href=\"#Task-2.-RNA-Sequences\"><span class=\"toc-item-num\">Task 2.&nbsp;&nbsp;</span>RNA Sequences</a></div>\n",
    " <div class=\"lev1\"><a href=\"#Task-3.-Class-War-in-Titanic\"><span class=\"toc-item-num\">Task 3.&nbsp;&nbsp;</span>Class War in Titanic</a></div></p>"
   ]
  },
  {
   "cell_type": "code",
   "execution_count": 147,
   "metadata": {
    "collapsed": true
   },
   "outputs": [],
   "source": [
    "import glob, ntpath, os\n",
    "from datetime import datetime\n",
    "%matplotlib inline\n",
    "import matplotlib.pyplot as plt\n",
    "import pandas as pd\n",
    "import numpy as np\n",
    "import os\n",
    "import seaborn as sns\n",
    "\n",
    "DATA_FOLDER = 'data/'"
   ]
  },
  {
   "cell_type": "code",
   "execution_count": 148,
   "metadata": {
    "collapsed": true
   },
   "outputs": [],
   "source": [
    "# Custom functions\n",
    "\n",
    "def read_csvs(dir, regex=\"*.csv\", has_header=True, append_origin=True):\n",
    "    return read_data_files(dir, regex, pd.read_csv, has_header, append_origin)\n",
    "\n",
    "def read_excels(dir, regex=\"*.xls\", has_header=True, append_origin=True):\n",
    "    return read_data_files(dir, regex, pd.read_excel, has_header, append_origin)\n",
    "    \n",
    "def read_data_files(dir, regex, func, has_header, append_origin):\n",
    "    all_files = glob.glob(os.path.join(dir, regex))\n",
    "    dfs = []\n",
    "    for file in all_files:\n",
    "        df = func(file, header=0 if has_header else None)\n",
    "        if append_origin:\n",
    "            df['File'] = path_leaf(file)\n",
    "        dfs.append(df)\n",
    "    return pd.concat(dfs)\n",
    "\n",
    "def path_leaf(path):\n",
    "    head, tail = ntpath.split(path)\n",
    "    return tail or ntpath.basename(head)"
   ]
  },
  {
   "cell_type": "markdown",
   "metadata": {},
   "source": [
    "## Task 1. Compiling Ebola Data\n",
    "\n",
    "The `DATA_FOLDER/ebola` folder contains summarized reports of Ebola cases from three countries (Guinea, Liberia and Sierra Leone) during the recent outbreak of the disease in West Africa. For each country, there are daily reports that contain various information about the outbreak in several cities in each country.\n",
    "\n",
    "Use pandas to import these data files into a single `Dataframe`.\n",
    "Using this `DataFrame`, calculate for *each country*, the *daily average per month* of *new cases* and *deaths*.\n",
    "Make sure you handle all the different expressions for *new cases* and *deaths* that are used in the reports."
   ]
  },
  {
   "cell_type": "code",
   "execution_count": 149,
   "metadata": {},
   "outputs": [
    {
     "name": "stdout",
     "output_type": "stream",
     "text": [
      "\n",
      "\n",
      "\n"
     ]
    }
   ],
   "source": [
    "# Write your answer here\n",
    "countries = dict.fromkeys(['guinea', 'liberia', 'sl'])\n",
    "\n",
    "for country in countries:\n",
    "    FULL_PATH = DATA_FOLDER + \"ebola/\" + country + \"_data/\"\n",
    "    print(\"\")\n",
    "    for csv_file in os.listdir(FULL_PATH):\n",
    "        if countries[country] is None:\n",
    "            countries[country] = pd.read_csv(FULL_PATH + csv_file, sep=',')\n",
    "        else:\n",
    "            nextFrame = pd.read_csv(FULL_PATH + csv_file, sep=',')\n",
    "            countries[country] = pd.concat([countries[country], nextFrame], axis=0)\n",
    "            "
   ]
  },
  {
   "cell_type": "markdown",
   "metadata": {},
   "source": [
    "We only consider confirmed cases as legitimate cases."
   ]
  },
  {
   "cell_type": "code",
   "execution_count": 150,
   "metadata": {
    "scrolled": false
   },
   "outputs": [
    {
     "data": {
      "text/html": [
       "<div>\n",
       "<style>\n",
       "    .dataframe thead tr:only-child th {\n",
       "        text-align: right;\n",
       "    }\n",
       "\n",
       "    .dataframe thead th {\n",
       "        text-align: left;\n",
       "    }\n",
       "\n",
       "    .dataframe tbody tr th {\n",
       "        vertical-align: top;\n",
       "    }\n",
       "</style>\n",
       "<table border=\"1\" class=\"dataframe\">\n",
       "  <thead>\n",
       "    <tr style=\"text-align: right;\">\n",
       "      <th></th>\n",
       "      <th>guinea</th>\n",
       "      <th>liberia</th>\n",
       "      <th>sl</th>\n",
       "      <th>guinea</th>\n",
       "      <th>liberia</th>\n",
       "      <th>sl</th>\n",
       "    </tr>\n",
       "    <tr>\n",
       "      <th>Date</th>\n",
       "      <th></th>\n",
       "      <th></th>\n",
       "      <th></th>\n",
       "      <th></th>\n",
       "      <th></th>\n",
       "      <th></th>\n",
       "    </tr>\n",
       "  </thead>\n",
       "  <tbody>\n",
       "    <tr>\n",
       "      <th>2014-06-30</th>\n",
       "      <td>NaN</td>\n",
       "      <td>2.142857</td>\n",
       "      <td>NaN</td>\n",
       "      <td>NaN</td>\n",
       "      <td>1.857143</td>\n",
       "      <td>NaN</td>\n",
       "    </tr>\n",
       "    <tr>\n",
       "      <th>2014-07-31</th>\n",
       "      <td>NaN</td>\n",
       "      <td>1.818182</td>\n",
       "      <td>NaN</td>\n",
       "      <td>NaN</td>\n",
       "      <td>4.272727</td>\n",
       "      <td>NaN</td>\n",
       "    </tr>\n",
       "    <tr>\n",
       "      <th>2014-08-31</th>\n",
       "      <td>12.4000</td>\n",
       "      <td>5.444444</td>\n",
       "      <td>19.600000</td>\n",
       "      <td>3.2000</td>\n",
       "      <td>23.222222</td>\n",
       "      <td>5.550000</td>\n",
       "    </tr>\n",
       "    <tr>\n",
       "      <th>2014-09-30</th>\n",
       "      <td>12.5625</td>\n",
       "      <td>6.166667</td>\n",
       "      <td>36.275862</td>\n",
       "      <td>3.5625</td>\n",
       "      <td>36.041667</td>\n",
       "      <td>4.344828</td>\n",
       "    </tr>\n",
       "    <tr>\n",
       "      <th>2014-10-31</th>\n",
       "      <td>6.0000</td>\n",
       "      <td>1.240000</td>\n",
       "      <td>57.535714</td>\n",
       "      <td>15.0000</td>\n",
       "      <td>28.120000</td>\n",
       "      <td>2.071429</td>\n",
       "    </tr>\n",
       "    <tr>\n",
       "      <th>2014-11-30</th>\n",
       "      <td>NaN</td>\n",
       "      <td>2.533333</td>\n",
       "      <td>63.238095</td>\n",
       "      <td>NaN</td>\n",
       "      <td>13.666667</td>\n",
       "      <td>0.428571</td>\n",
       "    </tr>\n",
       "    <tr>\n",
       "      <th>2014-12-31</th>\n",
       "      <td>NaN</td>\n",
       "      <td>1.111111</td>\n",
       "      <td>32.600000</td>\n",
       "      <td>NaN</td>\n",
       "      <td>0.000000</td>\n",
       "      <td>0.000000</td>\n",
       "    </tr>\n",
       "  </tbody>\n",
       "</table>\n",
       "</div>"
      ],
      "text/plain": [
       "             guinea   liberia         sl   guinea    liberia        sl\n",
       "Date                                                                  \n",
       "2014-06-30      NaN  2.142857        NaN      NaN   1.857143       NaN\n",
       "2014-07-31      NaN  1.818182        NaN      NaN   4.272727       NaN\n",
       "2014-08-31  12.4000  5.444444  19.600000   3.2000  23.222222  5.550000\n",
       "2014-09-30  12.5625  6.166667  36.275862   3.5625  36.041667  4.344828\n",
       "2014-10-31   6.0000  1.240000  57.535714  15.0000  28.120000  2.071429\n",
       "2014-11-30      NaN  2.533333  63.238095      NaN  13.666667  0.428571\n",
       "2014-12-31      NaN  1.111111  32.600000      NaN   0.000000  0.000000"
      ]
     },
     "execution_count": 150,
     "metadata": {},
     "output_type": "execute_result"
    }
   ],
   "source": [
    "dt_info = {\n",
    "    'guinea' : {\n",
    "        'case' : 'New cases of confirmed',\n",
    "        'deaths' : [\n",
    "            'New deaths registered',\n",
    "            'New deaths registered today'\n",
    "        ],\n",
    "        'var' : 'Description',\n",
    "        'exclude' : ['Totals', 'Description'],\n",
    "        'date' : 'Date',\n",
    "        'dateformat' : '%Y-%m-%d'\n",
    "    },\n",
    "    'liberia' : {\n",
    "        'case' : 'New case/s (confirmed)',\n",
    "        'deaths' : [\n",
    "            'Newly reported deaths'\n",
    "        ],\n",
    "        'var' : 'Variable',\n",
    "        'exclude' : ['National', 'Variable'],\n",
    "        'date' : 'Date',\n",
    "        'dateformat' : '%m/%d/%Y'\n",
    "    },\n",
    "    'sl' : {\n",
    "        'case' : 'new_confirmed',\n",
    "        'deaths' : [\n",
    "            'etc_new_deaths'\n",
    "        ],\n",
    "        'var' : 'variable',\n",
    "        'exclude' : ['National', 'variable'],\n",
    "        'date' : 'date',\n",
    "        'dateformat' : '%Y-%m-%d'\n",
    "    }\n",
    "}\n",
    "\"\"\"\n",
    " TODO:\n",
    "    - investigate unnamed\n",
    "    - check that variable columns in original data does not cause trouble\n",
    "    - \n",
    "\"\"\"\n",
    "\n",
    "cases = []\n",
    "deaths = []\n",
    "for country in countries:\n",
    "    info = dt_info[country]\n",
    "    df = countries[country]\n",
    "\n",
    "    # filter out cases and deaths\n",
    "\n",
    "    # parse date\n",
    "    df[info['date']] = pd.to_datetime(df[info['date']])\n",
    "    # set index\n",
    "    df = df.set_index(info['date'])\n",
    "\n",
    "    # sort by date\n",
    "    df.sort_index(inplace=True)\n",
    "\n",
    "    # get rid of NaN values\n",
    "    df = df.fillna(0)\n",
    "    # get rid of dashes\n",
    "    df = df.replace('-', '')\n",
    "\n",
    "    \n",
    "    # filter out cases\n",
    "    dfc = df.loc[df[info['var']] == info['case']].copy(deep=True)\n",
    "    # filter out deaths\n",
    "    dfd = df.loc[df[info['var']].isin(info['deaths'])].copy(deep=True)\n",
    "    \n",
    "    # delete non-numerics\n",
    "    for column in info['exclude']:\n",
    "        del dfc[column]\n",
    "        del dfd[column]\n",
    "        \n",
    "    # convert all values to numeric\n",
    "    for column in list(dfc):\n",
    "        dfc[column] = pd.to_numeric(dfc[column])\n",
    "        dfd[column] = pd.to_numeric(dfd[column])\n",
    "        \n",
    "    # collapse regions\n",
    "    dfc[country] = dfc[list(dfc)].sum(axis=1)\n",
    "    dfc = dfc[country]\n",
    "    dfd[country] = dfd[list(dfd)].sum(axis=1)\n",
    "    dfd = dfd[country]\n",
    "    \n",
    "    # exclude 4th to 9th december in liberia (wrong data, total instead of new cases)\n",
    "    if country == 'liberia':\n",
    "        dfc.loc['2014-12-04':'2014-12-09'] = 0\n",
    "    # create daily average per month\n",
    "    dfc = dfc.groupby(pd.TimeGrouper(freq='M')).mean()\n",
    "    cases.append(dfc)\n",
    "    dfd = dfd.groupby(pd.TimeGrouper(freq='M')).mean()\n",
    "    deaths.append(dfd)\n",
    "    \n",
    "\n",
    "#header_c = pd.MultiIndex.from_product(\n",
    "#    [list(countries), ['cases', 'deaths']\n",
    "#)\n",
    "\n",
    "dfc = pd.concat(cases, axis=1)\n",
    "dfd = pd.concat(deaths, axis=1)\n",
    "pd.concat([dfc, dfd], axis=1)"
   ]
  },
  {
   "cell_type": "markdown",
   "metadata": {},
   "source": [
    "## Task 2. RNA Sequences\n",
    "\n",
    "In the `DATA_FOLDER/microbiome` subdirectory, there are 9 spreadsheets of microbiome data that was acquired from high-throughput RNA sequencing procedures, along with a 10<sup>th</sup> file that describes the content of each. \n",
    "\n",
    "Use pandas to import the first 9 spreadsheets into a single `DataFrame`.\n",
    "Then, add the metadata information from the 10<sup>th</sup> spreadsheet as columns in the combined `DataFrame`.\n",
    "Make sure that the final `DataFrame` has a unique index and all the `NaN` values have been replaced by the tag `unknown`."
   ]
  },
  {
   "cell_type": "code",
   "execution_count": 151,
   "metadata": {},
   "outputs": [
    {
     "data": {
      "text/html": [
       "<div>\n",
       "<style>\n",
       "    .dataframe thead tr:only-child th {\n",
       "        text-align: right;\n",
       "    }\n",
       "\n",
       "    .dataframe thead th {\n",
       "        text-align: left;\n",
       "    }\n",
       "\n",
       "    .dataframe tbody tr th {\n",
       "        vertical-align: top;\n",
       "    }\n",
       "</style>\n",
       "<table border=\"1\" class=\"dataframe\">\n",
       "  <thead>\n",
       "    <tr style=\"text-align: right;\">\n",
       "      <th></th>\n",
       "      <th></th>\n",
       "      <th>Occurrence</th>\n",
       "      <th>Group</th>\n",
       "      <th>Sample origin</th>\n",
       "    </tr>\n",
       "    <tr>\n",
       "      <th>Name</th>\n",
       "      <th>Case</th>\n",
       "      <th></th>\n",
       "      <th></th>\n",
       "      <th></th>\n",
       "    </tr>\n",
       "  </thead>\n",
       "  <tbody>\n",
       "    <tr>\n",
       "      <th>Archaea \"Crenarchaeota\" Thermoprotei Desulfurococcales Desulfurococcaceae Ignisphaera</th>\n",
       "      <th>MID6</th>\n",
       "      <td>7</td>\n",
       "      <td>NEC 1</td>\n",
       "      <td>stool</td>\n",
       "    </tr>\n",
       "    <tr>\n",
       "      <th>Archaea \"Crenarchaeota\" Thermoprotei Desulfurococcales Desulfurococcaceae Sulfophobococcus</th>\n",
       "      <th>MID6</th>\n",
       "      <td>1</td>\n",
       "      <td>NEC 1</td>\n",
       "      <td>stool</td>\n",
       "    </tr>\n",
       "    <tr>\n",
       "      <th>Archaea \"Crenarchaeota\" Thermoprotei Desulfurococcales Pyrodictiaceae Pyrodictium</th>\n",
       "      <th>MID6</th>\n",
       "      <td>1</td>\n",
       "      <td>NEC 1</td>\n",
       "      <td>stool</td>\n",
       "    </tr>\n",
       "    <tr>\n",
       "      <th>Archaea \"Crenarchaeota\" Thermoprotei Desulfurococcales Pyrodictiaceae Pyrolobus</th>\n",
       "      <th>MID6</th>\n",
       "      <td>2</td>\n",
       "      <td>NEC 1</td>\n",
       "      <td>stool</td>\n",
       "    </tr>\n",
       "    <tr>\n",
       "      <th>Archaea \"Crenarchaeota\" Thermoprotei Sulfolobales Sulfolobaceae Stygiolobus</th>\n",
       "      <th>MID6</th>\n",
       "      <td>5</td>\n",
       "      <td>NEC 1</td>\n",
       "      <td>stool</td>\n",
       "    </tr>\n",
       "  </tbody>\n",
       "</table>\n",
       "</div>"
      ],
      "text/plain": [
       "                                                         Occurrence  Group  \\\n",
       "Name                                               Case                      \n",
       "Archaea \"Crenarchaeota\" Thermoprotei Desulfuroc... MID6           7  NEC 1   \n",
       "Archaea \"Crenarchaeota\" Thermoprotei Desulfuroc... MID6           1  NEC 1   \n",
       "Archaea \"Crenarchaeota\" Thermoprotei Desulfuroc... MID6           1  NEC 1   \n",
       "Archaea \"Crenarchaeota\" Thermoprotei Desulfuroc... MID6           2  NEC 1   \n",
       "Archaea \"Crenarchaeota\" Thermoprotei Sulfolobal... MID6           5  NEC 1   \n",
       "\n",
       "                                                        Sample origin  \n",
       "Name                                               Case                \n",
       "Archaea \"Crenarchaeota\" Thermoprotei Desulfuroc... MID6         stool  \n",
       "Archaea \"Crenarchaeota\" Thermoprotei Desulfuroc... MID6         stool  \n",
       "Archaea \"Crenarchaeota\" Thermoprotei Desulfuroc... MID6         stool  \n",
       "Archaea \"Crenarchaeota\" Thermoprotei Desulfuroc... MID6         stool  \n",
       "Archaea \"Crenarchaeota\" Thermoprotei Sulfolobal... MID6         stool  "
      ]
     },
     "execution_count": 151,
     "metadata": {},
     "output_type": "execute_result"
    }
   ],
   "source": [
    "# Write your answer here\n",
    "\n",
    "RNA_METADATA_PATH = DATA_FOLDER + 'microbiome/metadata.xls'\n",
    "RNA_SEQUENCING_PATH = DATA_FOLDER + 'microbiome/'\n",
    "\n",
    "metadata = pd.read_excel(RNA_METADATA_PATH, header=0, index_col = \"BARCODE\")\n",
    "metadata.index.names = ['Barcode']\n",
    "metadata.columns = ['Group', 'Sample origin']\n",
    "metadata['Sample origin'] = metadata['Sample origin'].fillna(\"unknown\")\n",
    "\n",
    "microbiome = read_excels(RNA_SEQUENCING_PATH, regex=\"MID*.xls\", has_header=False)\n",
    "microbiome['File'] = list(map(lambda f: f.split(\".\")[0], microbiome['File'].values))\n",
    "microbiome.columns = ['Name', 'Occurrence', 'Case']\n",
    "microbiome['Group'] = [metadata.loc[m[2].split(\".\")[0]]['Group'] for m in microbiome.values]\n",
    "microbiome['Sample origin'] = [metadata.loc[m[2].split(\".\")[0]]['Sample origin'] for m in microbiome.values]\n",
    "microbiome = microbiome.set_index(['Name', 'Case'])\n",
    "\n",
    "microbiome.head()\n"
   ]
  },
  {
   "cell_type": "markdown",
   "metadata": {},
   "source": [
    "## Task 3. Class War in Titanic\n",
    "\n",
    "Use pandas to import the data file `Data/titanic.xls`. It contains data on all the passengers that travelled on the Titanic."
   ]
  },
  {
   "cell_type": "code",
   "execution_count": 152,
   "metadata": {},
   "outputs": [],
   "source": [
    "from IPython.core.display import HTML\n",
    "pd.options.mode.chained_assignment = None\n",
    "\n",
    "HTML(filename=DATA_FOLDER+'/titanic.html')\n",
    "\n",
    "TITANIC_DATA_PATH = DATA_FOLDER + '/titanic.xls'\n",
    "titanic_original = pd.read_excel(TITANIC_DATA_PATH)"
   ]
  },
  {
   "cell_type": "markdown",
   "metadata": {},
   "source": [
    "For each of the following questions state clearly your assumptions and discuss your findings:\n",
    "1. Describe the *type* and the *value range* of each attribute. Indicate and transform the attributes that can be `Categorical`. \n",
    "2. Plot histograms for the *travel class*, *embarkation port*, *sex* and *age* attributes. For the latter one, use *discrete decade intervals*. \n",
    "3. Calculate the proportion of passengers by *cabin floor*. Present your results in a *pie chart*.\n",
    "4. For each *travel class*, calculate the proportion of the passengers that survived. Present your results in *pie charts*.\n",
    "5. Calculate the proportion of the passengers that survived by *travel class* and *sex*. Present your results in *a single histogram*.\n",
    "6. Create 2 equally populated *age categories* and calculate survival proportions by *age category*, *travel class* and *sex*. Present your results in a `DataFrame` with unique index."
   ]
  },
  {
   "cell_type": "code",
   "execution_count": 153,
   "metadata": {
    "collapsed": true
   },
   "outputs": [],
   "source": [
    "# 1st point: Describe the type and the value range of each attribute. Indicate and transform the attributes \n",
    "# that can be Categorical.\n",
    "\n",
    "titanic = titanic_original.copy()"
   ]
  },
  {
   "cell_type": "markdown",
   "metadata": {},
   "source": [
    "With '.dtypes' property, we can get a sense of the types of information we are working with."
   ]
  },
  {
   "cell_type": "code",
   "execution_count": 154,
   "metadata": {},
   "outputs": [
    {
     "data": {
      "text/plain": [
       "pclass         int64\n",
       "survived       int64\n",
       "name          object\n",
       "sex           object\n",
       "age          float64\n",
       "sibsp          int64\n",
       "parch          int64\n",
       "ticket        object\n",
       "fare         float64\n",
       "cabin         object\n",
       "embarked      object\n",
       "boat          object\n",
       "body         float64\n",
       "home.dest     object\n",
       "dtype: object"
      ]
     },
     "execution_count": 154,
     "metadata": {},
     "output_type": "execute_result"
    }
   ],
   "source": [
    "titanic.dtypes"
   ]
  },
  {
   "cell_type": "markdown",
   "metadata": {},
   "source": [
    "With 'describe' method we can get a sense of value ranges that we are dealing with, and infer which attributes can be treated as 'Categorical'."
   ]
  },
  {
   "cell_type": "code",
   "execution_count": 155,
   "metadata": {},
   "outputs": [
    {
     "data": {
      "text/html": [
       "<div>\n",
       "<style>\n",
       "    .dataframe thead tr:only-child th {\n",
       "        text-align: right;\n",
       "    }\n",
       "\n",
       "    .dataframe thead th {\n",
       "        text-align: left;\n",
       "    }\n",
       "\n",
       "    .dataframe tbody tr th {\n",
       "        vertical-align: top;\n",
       "    }\n",
       "</style>\n",
       "<table border=\"1\" class=\"dataframe\">\n",
       "  <thead>\n",
       "    <tr style=\"text-align: right;\">\n",
       "      <th></th>\n",
       "      <th>pclass</th>\n",
       "      <th>survived</th>\n",
       "      <th>age</th>\n",
       "      <th>sibsp</th>\n",
       "      <th>parch</th>\n",
       "      <th>fare</th>\n",
       "      <th>body</th>\n",
       "    </tr>\n",
       "  </thead>\n",
       "  <tbody>\n",
       "    <tr>\n",
       "      <th>count</th>\n",
       "      <td>1309.000000</td>\n",
       "      <td>1309.000000</td>\n",
       "      <td>1046.000000</td>\n",
       "      <td>1309.000000</td>\n",
       "      <td>1309.000000</td>\n",
       "      <td>1308.000000</td>\n",
       "      <td>121.000000</td>\n",
       "    </tr>\n",
       "    <tr>\n",
       "      <th>mean</th>\n",
       "      <td>2.294882</td>\n",
       "      <td>0.381971</td>\n",
       "      <td>29.881135</td>\n",
       "      <td>0.498854</td>\n",
       "      <td>0.385027</td>\n",
       "      <td>33.295479</td>\n",
       "      <td>160.809917</td>\n",
       "    </tr>\n",
       "    <tr>\n",
       "      <th>std</th>\n",
       "      <td>0.837836</td>\n",
       "      <td>0.486055</td>\n",
       "      <td>14.413500</td>\n",
       "      <td>1.041658</td>\n",
       "      <td>0.865560</td>\n",
       "      <td>51.758668</td>\n",
       "      <td>97.696922</td>\n",
       "    </tr>\n",
       "    <tr>\n",
       "      <th>min</th>\n",
       "      <td>1.000000</td>\n",
       "      <td>0.000000</td>\n",
       "      <td>0.166700</td>\n",
       "      <td>0.000000</td>\n",
       "      <td>0.000000</td>\n",
       "      <td>0.000000</td>\n",
       "      <td>1.000000</td>\n",
       "    </tr>\n",
       "    <tr>\n",
       "      <th>25%</th>\n",
       "      <td>2.000000</td>\n",
       "      <td>0.000000</td>\n",
       "      <td>21.000000</td>\n",
       "      <td>0.000000</td>\n",
       "      <td>0.000000</td>\n",
       "      <td>7.895800</td>\n",
       "      <td>72.000000</td>\n",
       "    </tr>\n",
       "    <tr>\n",
       "      <th>50%</th>\n",
       "      <td>3.000000</td>\n",
       "      <td>0.000000</td>\n",
       "      <td>28.000000</td>\n",
       "      <td>0.000000</td>\n",
       "      <td>0.000000</td>\n",
       "      <td>14.454200</td>\n",
       "      <td>155.000000</td>\n",
       "    </tr>\n",
       "    <tr>\n",
       "      <th>75%</th>\n",
       "      <td>3.000000</td>\n",
       "      <td>1.000000</td>\n",
       "      <td>39.000000</td>\n",
       "      <td>1.000000</td>\n",
       "      <td>0.000000</td>\n",
       "      <td>31.275000</td>\n",
       "      <td>256.000000</td>\n",
       "    </tr>\n",
       "    <tr>\n",
       "      <th>max</th>\n",
       "      <td>3.000000</td>\n",
       "      <td>1.000000</td>\n",
       "      <td>80.000000</td>\n",
       "      <td>8.000000</td>\n",
       "      <td>9.000000</td>\n",
       "      <td>512.329200</td>\n",
       "      <td>328.000000</td>\n",
       "    </tr>\n",
       "  </tbody>\n",
       "</table>\n",
       "</div>"
      ],
      "text/plain": [
       "            pclass     survived          age        sibsp        parch  \\\n",
       "count  1309.000000  1309.000000  1046.000000  1309.000000  1309.000000   \n",
       "mean      2.294882     0.381971    29.881135     0.498854     0.385027   \n",
       "std       0.837836     0.486055    14.413500     1.041658     0.865560   \n",
       "min       1.000000     0.000000     0.166700     0.000000     0.000000   \n",
       "25%       2.000000     0.000000    21.000000     0.000000     0.000000   \n",
       "50%       3.000000     0.000000    28.000000     0.000000     0.000000   \n",
       "75%       3.000000     1.000000    39.000000     1.000000     0.000000   \n",
       "max       3.000000     1.000000    80.000000     8.000000     9.000000   \n",
       "\n",
       "              fare        body  \n",
       "count  1308.000000  121.000000  \n",
       "mean     33.295479  160.809917  \n",
       "std      51.758668   97.696922  \n",
       "min       0.000000    1.000000  \n",
       "25%       7.895800   72.000000  \n",
       "50%      14.454200  155.000000  \n",
       "75%      31.275000  256.000000  \n",
       "max     512.329200  328.000000  "
      ]
     },
     "execution_count": 155,
     "metadata": {},
     "output_type": "execute_result"
    }
   ],
   "source": [
    "titanic.describe()"
   ]
  },
  {
   "cell_type": "markdown",
   "metadata": {
    "collapsed": true
   },
   "source": [
    "The following attributes can be categorical:\n",
    "\n",
    "* pclass\n",
    "* sex (can be trasformed in a dummy variable, too: 1 if the passeger was male, 0 instead)\n",
    "* age (can be trasformed in a categorical attribute - one value per decade)\n",
    "* embarked "
   ]
  },
  {
   "cell_type": "code",
   "execution_count": 156,
   "metadata": {},
   "outputs": [
    {
     "data": {
      "text/plain": [
       "pclass       category\n",
       "survived        int64\n",
       "name           object\n",
       "sex          category\n",
       "age          category\n",
       "sibsp           int64\n",
       "parch           int64\n",
       "ticket         object\n",
       "fare          float64\n",
       "cabin          object\n",
       "embarked     category\n",
       "boat           object\n",
       "body          float64\n",
       "home.dest      object\n",
       "dtype: object"
      ]
     },
     "execution_count": 156,
     "metadata": {},
     "output_type": "execute_result"
    }
   ],
   "source": [
    "# Trasforming 'pclass' to a categorical attribute.\n",
    "titanic['pclass'] = titanic.pclass.astype('category')\n",
    "\n",
    "# Trasforming 'sex' to a categorical attribute.\n",
    "titanic['sex'] = titanic.sex.astype('category')\n",
    "\n",
    "# Trasforming 'embarked' to a categorical attribute.\n",
    "titanic['embarked'] = titanic.embarked.astype('category')\n",
    "\n",
    "#trasforming age to a categorical attribute\n",
    "titanic.age = pd.cut(titanic.age, [0,10, 20,30,40,50,60,70,80], labels = [1,2,3,4,5,6,7,8])[:30]\n",
    "\n",
    "titanic.dtypes\n"
   ]
  },
  {
   "cell_type": "markdown",
   "metadata": {},
   "source": [
    "We suppose that most of the passengers were placed in the 3rd class, that there were more male than female passengers and that most of the passengers are between 30 and 40 years old.\n",
    "\n",
    "**NOTE:** Due to inconsistencies within provided data, total count of passengers taken into account within each plot varies. Only passengers who had necessary plot information present were taken into account."
   ]
  },
  {
   "cell_type": "code",
   "execution_count": 157,
   "metadata": {},
   "outputs": [
    {
     "data": {
      "image/png": "[encoded data removed]",
      "text/plain": [
       "<matplotlib.figure.Figure at 0x11b21bdd8>"
      ]
     },
     "metadata": {},
     "output_type": "display_data"
    },
    {
     "data": {
      "image/png": "[encoded data removed]",
      "text/plain": [
       "<matplotlib.figure.Figure at 0x11b3b6860>"
      ]
     },
     "metadata": {},
     "output_type": "display_data"
    },
    {
     "data": {
      "image/png": "[encoded data removed]",
      "text/plain": [
       "<matplotlib.figure.Figure at 0x11aa9ef98>"
      ]
     },
     "metadata": {},
     "output_type": "display_data"
    },
    {
     "data": {
      "image/png": "[encoded data removed]",
      "text/plain": [
       "<matplotlib.figure.Figure at 0x11b08b748>"
      ]
     },
     "metadata": {},
     "output_type": "display_data"
    }
   ],
   "source": [
    "# 2nd task: Plot histograms for the travel class, embarkation port, sex and age attributes. For the latter one, \n",
    "# use discrete decade intervals.\n",
    "\n",
    "def titanic_plot(y, xlbl):\n",
    "    fig, ax = plt.subplots()\n",
    "    ax.set_title('Titanic passengers plot by '+ xlbl , fontsize=15, fontweight='bold')\n",
    "    sns.barplot(y.keys(), y, ax=ax)\n",
    "    locs, labels = plt.xticks()\n",
    "    plt.ylabel('Total')\n",
    "    plt.show()\n",
    "\n",
    "titanic_plot(titanic.pclass.value_counts(), 'class')\n",
    "titanic_plot(titanic.sex.value_counts(),'sex')\n",
    "titanic_plot(titanic.embarked.value_counts(),'embarkation port')\n",
    "titanic_plot(titanic.age.value_counts(),'age')"
   ]
  },
  {
   "cell_type": "markdown",
   "metadata": {},
   "source": [
    "After plotting the data, we see that all of our assumptions were correct except the one regarding age. Plot shows that most of the passengers were between 20 and 30 years old."
   ]
  },
  {
   "cell_type": "code",
   "execution_count": 158,
   "metadata": {},
   "outputs": [
    {
     "data": {
      "image/png": "[encoded data removed]",
      "text/plain": [
       "<matplotlib.figure.Figure at 0x11b0b8438>"
      ]
     },
     "metadata": {},
     "output_type": "display_data"
    }
   ],
   "source": [
    "# 3rd task: Calculate the proportion of passengers by cabin floor. Present your results in a pie chart.\n",
    "\n",
    "# Every letter identifies a floor, so we transform each cabin attribute to this single letter.\n",
    "# We are discarding entries with cabin values that are not present.\n",
    "\n",
    "titanic_3 = titanic_original.copy()\n",
    "titanic_3['cabin'] = titanic_3['cabin'].dropna()\n",
    "\n",
    "cabin_list = ['A','B','C','D','E','F','G','T']\n",
    "for letter in cabin_list:\n",
    "    titanic_3['cabin'][titanic_3['cabin'].str.contains(letter, na=False)] = letter\n",
    "    \n",
    "# Count the total number of known cabins.\n",
    "cabins = len(titanic_3['cabin'])\n",
    "# Calculate the percentage of passenger for each plan\n",
    "cabins_count = titanic_3['cabin'].value_counts() \n",
    "perc = cabins_count / cabins * 100\n",
    "\n",
    "# Plotting\n",
    "labels = '1st','2nd','3rd','4th','5th','6th','7th','8th'\n",
    "sizes = [perc['T'],perc['G'], perc['F'], perc['E'], perc['D'], perc['C'], perc['B'], perc['A']]\n",
    "fig1, ax1 = plt.subplots()\n",
    "ax1.set_title('Titanic passenger percentage by floor ', fontsize=15, fontweight='bold')\n",
    "ax1.pie(sizes, labels=labels, autopct='%1.1f%%', shadow=True, startangle=90)\n",
    "ax1.axis('equal') \n",
    "plt.show()\n"
   ]
  },
  {
   "cell_type": "code",
   "execution_count": 159,
   "metadata": {},
   "outputs": [
    {
     "data": {
      "image/png": "[encoded data removed]",
      "text/plain": [
       "<matplotlib.figure.Figure at 0x11b20ea90>"
      ]
     },
     "metadata": {},
     "output_type": "display_data"
    },
    {
     "data": {
      "image/png": "[encoded data removed]",
      "text/plain": [
       "<matplotlib.figure.Figure at 0x11b37d4e0>"
      ]
     },
     "metadata": {},
     "output_type": "display_data"
    },
    {
     "data": {
      "image/png": "[encoded data removed]",
      "text/plain": [
       "<matplotlib.figure.Figure at 0x11aaa7b00>"
      ]
     },
     "metadata": {},
     "output_type": "display_data"
    }
   ],
   "source": [
    "# 4th task: For each travel class, calculate the proportion of the passengers that survived. Present your results \n",
    "# in pie charts.\n",
    "\n",
    "titanic_4 = titanic.copy()\n",
    "titanic_4['pclass'] = titanic_4['pclass'].astype('float')\n",
    "\n",
    "# Plot function\n",
    "def titanic_pie_chart(s,ns):\n",
    "    labels = 'Survived', 'Didn\\'t survive'\n",
    "    sizes = [s, ns]\n",
    "    fig1, ax1 = plt.subplots()\n",
    "    ax1.set_title('Titanic survivor percentage in class ' + repr(i) , fontsize=15, fontweight='bold')\n",
    "    ax1.pie(sizes, labels=labels, autopct='%1.1f%%', shadow=True, startangle=90)\n",
    "    ax1.axis('equal')  \n",
    "    plt.show()\n",
    "\n",
    "# Grouping data and calculating number of survivors per class.\n",
    "x = titanic_4.groupby(titanic_4.pclass).aggregate(np.sum)\n",
    "y = titanic_4.pclass.value_counts()  \n",
    "\n",
    "# Plots\n",
    "for i in range(1,4):\n",
    "    s=100*x.survived.loc[i]/y[i]\n",
    "    ns=100-s\n",
    "    titanic_pie_chart(s,ns)"
   ]
  },
  {
   "cell_type": "markdown",
   "metadata": {},
   "source": [
    "We are making an assumption that most of the survivors will be women, and our assumption is being confirmed by the plots."
   ]
  },
  {
   "cell_type": "code",
   "execution_count": 160,
   "metadata": {},
   "outputs": [
    {
     "data": {
      "image/png": "[encoded data removed]",
      "text/plain": [
       "<matplotlib.figure.Figure at 0x1147d4048>"
      ]
     },
     "metadata": {},
     "output_type": "display_data"
    }
   ],
   "source": [
    "# 5th task: Calculate the proportion of the passengers that survived by travel class and sex. Present your \n",
    "# results in a single histogram.\n",
    "\n",
    "# Grouping and aggregating data.\n",
    "x = titanic_original.groupby(['sex','pclass']).aggregate(np.sum)\n",
    "\n",
    "# Calculating percentages.\n",
    "ms = x['survived'].loc['male']/(x.survived.loc['male']+x.survived.loc['female'])*100\n",
    "ws = x['survived'].loc['female']/(x.survived.loc['male']+x.survived.loc['female'])*100\n",
    "\n",
    "# Plot\n",
    "ind = np.arange(3)   \n",
    "width = 0.35       \n",
    "p1 = plt.bar(ind, ms, width, )\n",
    "p2 = plt.bar(ind, ws, width, bottom=ms)\n",
    "plt.ylabel('Percetage')\n",
    "plt.title('Survivors by class and gender',fontsize=15, fontweight='bold')\n",
    "plt.xticks(ind, ('1st', '2nd', '3rd'))\n",
    "plt.yticks(np.arange(0, 130, 10))\n",
    "plt.legend((p1[0], p2[0]), ('Male', 'Female'))\n",
    "plt.show()\n"
   ]
  },
  {
   "cell_type": "code",
   "execution_count": 100,
   "metadata": {},
   "outputs": [
    {
     "data": {
      "text/html": [
       "<div>\n",
       "<style>\n",
       "    .dataframe thead tr:only-child th {\n",
       "        text-align: right;\n",
       "    }\n",
       "\n",
       "    .dataframe thead th {\n",
       "        text-align: left;\n",
       "    }\n",
       "\n",
       "    .dataframe tbody tr th {\n",
       "        vertical-align: top;\n",
       "    }\n",
       "</style>\n",
       "<table border=\"1\" class=\"dataframe\">\n",
       "  <thead>\n",
       "    <tr style=\"text-align: right;\">\n",
       "      <th></th>\n",
       "      <th></th>\n",
       "      <th></th>\n",
       "      <th></th>\n",
       "      <th>Count</th>\n",
       "    </tr>\n",
       "    <tr>\n",
       "      <th>Age category</th>\n",
       "      <th>Survived</th>\n",
       "      <th>Class</th>\n",
       "      <th>Sex</th>\n",
       "      <th></th>\n",
       "    </tr>\n",
       "  </thead>\n",
       "  <tbody>\n",
       "    <tr>\n",
       "      <th rowspan=\"12\" valign=\"top\">older</th>\n",
       "      <th rowspan=\"6\" valign=\"top\">0</th>\n",
       "      <th rowspan=\"2\" valign=\"top\">1</th>\n",
       "      <th>female</th>\n",
       "      <td>3</td>\n",
       "    </tr>\n",
       "    <tr>\n",
       "      <th>male</th>\n",
       "      <td>83</td>\n",
       "    </tr>\n",
       "    <tr>\n",
       "      <th rowspan=\"2\" valign=\"top\">2</th>\n",
       "      <th>female</th>\n",
       "      <td>6</td>\n",
       "    </tr>\n",
       "    <tr>\n",
       "      <th>male</th>\n",
       "      <td>77</td>\n",
       "    </tr>\n",
       "    <tr>\n",
       "      <th rowspan=\"2\" valign=\"top\">3</th>\n",
       "      <th>female</th>\n",
       "      <td>27</td>\n",
       "    </tr>\n",
       "    <tr>\n",
       "      <th>male</th>\n",
       "      <td>107</td>\n",
       "    </tr>\n",
       "    <tr>\n",
       "      <th rowspan=\"6\" valign=\"top\">1</th>\n",
       "      <th rowspan=\"2\" valign=\"top\">1</th>\n",
       "      <th>female</th>\n",
       "      <td>89</td>\n",
       "    </tr>\n",
       "    <tr>\n",
       "      <th>male</th>\n",
       "      <td>36</td>\n",
       "    </tr>\n",
       "    <tr>\n",
       "      <th rowspan=\"2\" valign=\"top\">2</th>\n",
       "      <th>female</th>\n",
       "      <td>41</td>\n",
       "    </tr>\n",
       "    <tr>\n",
       "      <th>male</th>\n",
       "      <td>7</td>\n",
       "    </tr>\n",
       "    <tr>\n",
       "      <th rowspan=\"2\" valign=\"top\">3</th>\n",
       "      <th>female</th>\n",
       "      <td>16</td>\n",
       "    </tr>\n",
       "    <tr>\n",
       "      <th>male</th>\n",
       "      <td>18</td>\n",
       "    </tr>\n",
       "    <tr>\n",
       "      <th rowspan=\"12\" valign=\"top\">younger</th>\n",
       "      <th rowspan=\"6\" valign=\"top\">0</th>\n",
       "      <th rowspan=\"2\" valign=\"top\">1</th>\n",
       "      <th>female</th>\n",
       "      <td>2</td>\n",
       "    </tr>\n",
       "    <tr>\n",
       "      <th>male</th>\n",
       "      <td>15</td>\n",
       "    </tr>\n",
       "    <tr>\n",
       "      <th rowspan=\"2\" valign=\"top\">2</th>\n",
       "      <th>female</th>\n",
       "      <td>5</td>\n",
       "    </tr>\n",
       "    <tr>\n",
       "      <th>male</th>\n",
       "      <td>58</td>\n",
       "    </tr>\n",
       "    <tr>\n",
       "      <th rowspan=\"2\" valign=\"top\">3</th>\n",
       "      <th>female</th>\n",
       "      <td>53</td>\n",
       "    </tr>\n",
       "    <tr>\n",
       "      <th>male</th>\n",
       "      <td>181</td>\n",
       "    </tr>\n",
       "    <tr>\n",
       "      <th rowspan=\"6\" valign=\"top\">1</th>\n",
       "      <th rowspan=\"2\" valign=\"top\">1</th>\n",
       "      <th>female</th>\n",
       "      <td>39</td>\n",
       "    </tr>\n",
       "    <tr>\n",
       "      <th>male</th>\n",
       "      <td>16</td>\n",
       "    </tr>\n",
       "    <tr>\n",
       "      <th rowspan=\"2\" valign=\"top\">2</th>\n",
       "      <th>female</th>\n",
       "      <td>50</td>\n",
       "    </tr>\n",
       "    <tr>\n",
       "      <th>male</th>\n",
       "      <td>13</td>\n",
       "    </tr>\n",
       "    <tr>\n",
       "      <th rowspan=\"2\" valign=\"top\">3</th>\n",
       "      <th>female</th>\n",
       "      <td>53</td>\n",
       "    </tr>\n",
       "    <tr>\n",
       "      <th>male</th>\n",
       "      <td>39</td>\n",
       "    </tr>\n",
       "  </tbody>\n",
       "</table>\n",
       "</div>"
      ],
      "text/plain": [
       "                                    Count\n",
       "Age category Survived Class Sex          \n",
       "older        0        1     female      3\n",
       "                            male       83\n",
       "                      2     female      6\n",
       "                            male       77\n",
       "                      3     female     27\n",
       "                            male      107\n",
       "             1        1     female     89\n",
       "                            male       36\n",
       "                      2     female     41\n",
       "                            male        7\n",
       "                      3     female     16\n",
       "                            male       18\n",
       "younger      0        1     female      2\n",
       "                            male       15\n",
       "                      2     female      5\n",
       "                            male       58\n",
       "                      3     female     53\n",
       "                            male      181\n",
       "             1        1     female     39\n",
       "                            male       16\n",
       "                      2     female     50\n",
       "                            male       13\n",
       "                      3     female     53\n",
       "                            male       39"
      ]
     },
     "execution_count": 100,
     "metadata": {},
     "output_type": "execute_result"
    }
   ],
   "source": [
    "# 6th point: Create 2 equally populated age categories and calculate survival proportions by age category, \n",
    "# travel class and sex. Present your results in a DataFrame with unique index.\n",
    "\n",
    "titanic_6 = titanic_original.copy()\n",
    "titanic_6 = titanic_6[['survived', 'age', 'pclass', 'sex']]\n",
    "\n",
    "# We are discarding all entries which do not have 'age' attribute set up.\n",
    "titanic_6.dropna(subset=['age'])\n",
    "# We are including only entries whose 'age' attribute is a meaningfull number.\n",
    "titanic_6 = titanic_6[titanic_6['age']>=1]\n",
    "# Splitting the data in two 'equal' partitions.\n",
    "titanic_6['age_category'] = pd.qcut(titanic_6.age, 2, labels=['younger', 'older'])\n",
    "\n",
    "titanic_6.drop('age', axis=1, inplace=True)\n",
    "titanic_6 = pd.DataFrame(titanic_6.groupby(['age_category', 'survived', 'pclass', 'sex']).aggregate(len))\n",
    "titanic_6.index.names = ['Age category', 'Survived', 'Class', 'Sex']\n",
    "titanic_6.columns = ['Count']\n",
    "\n",
    "titanic_6\n"
   ]
  },
  {
   "cell_type": "code",
   "execution_count": null,
   "metadata": {
    "collapsed": true
   },
   "outputs": [],
   "source": []
  }
 ],
 "metadata": {
  "kernelspec": {
   "display_name": "Python 3",
   "language": "python",
   "name": "python3"
  },
  "language_info": {
   "codemirror_mode": {
    "name": "ipython",
    "version": 3
   },
   "file_extension": ".py",
   "mimetype": "text/x-python",
   "name": "python",
   "nbconvert_exporter": "python",
   "pygments_lexer": "ipython3",
   "version": "3.6.1"
  }
 },
 "nbformat": 4,
 "nbformat_minor": 2
}
